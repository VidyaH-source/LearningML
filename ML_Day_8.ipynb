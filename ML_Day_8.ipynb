{
  "nbformat": 4,
  "nbformat_minor": 0,
  "metadata": {
    "colab": {
      "provenance": []
    },
    "kernelspec": {
      "name": "python3",
      "display_name": "Python 3"
    },
    "language_info": {
      "name": "python"
    }
  },
  "cells": [
    {
      "cell_type": "code",
      "source": [
        "# Day 9\n",
        "print(\"Day 9\")"
      ],
      "metadata": {
        "id": "NZWMfTw8Go4R",
        "outputId": "eb6cd448-4ec0-4790-9854-ca1037fc8844",
        "colab": {
          "base_uri": "https://localhost:8080/"
        }
      },
      "execution_count": 2,
      "outputs": [
        {
          "output_type": "stream",
          "name": "stdout",
          "text": [
            "Day 9\n"
          ]
        }
      ]
    },
    {
      "cell_type": "code",
      "source": [
        "print(\"Welcome to the last class on ML 2024\")"
      ],
      "metadata": {
        "id": "DttZjwDrG3pC",
        "outputId": "7ca52a34-2846-4782-e7eb-e01ca61b0964",
        "colab": {
          "base_uri": "https://localhost:8080/"
        }
      },
      "execution_count": 3,
      "outputs": [
        {
          "output_type": "stream",
          "name": "stdout",
          "text": [
            "Welcome to the last class on ML 2024\n"
          ]
        }
      ]
    }
  ]
}