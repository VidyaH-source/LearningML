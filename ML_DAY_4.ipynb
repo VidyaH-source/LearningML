{
  "nbformat": 4,
  "nbformat_minor": 0,
  "metadata": {
    "colab": {
      "provenance": []
    },
    "kernelspec": {
      "name": "python3",
      "display_name": "Python 3"
    },
    "language_info": {
      "name": "python"
    }
  },
  "cells": [
    {
      "cell_type": "code",
      "execution_count": 1,
      "metadata": {
        "id": "T3Qfg8FJqT5x"
      },
      "outputs": [],
      "source": [
        "import numpy as np"
      ]
    },
    {
      "cell_type": "code",
      "source": [
        "arr1 = np.array([1,2,3,4,5,6,7,8])\n",
        "print(arr1)"
      ],
      "metadata": {
        "id": "ZfqwnmbhbEZf",
        "outputId": "cdc05395-6609-40ce-ecdc-526248eea08e",
        "colab": {
          "base_uri": "https://localhost:8080/"
        }
      },
      "execution_count": 6,
      "outputs": [
        {
          "output_type": "stream",
          "name": "stdout",
          "text": [
            "[1 2 3 4 5 6 7 8]\n"
          ]
        }
      ]
    },
    {
      "cell_type": "code",
      "source": [
        "arr2 = np.array([[1,2,3,],[4,5,6]])\n",
        "print(arr2)"
      ],
      "metadata": {
        "id": "Qr5C50RvaXtN",
        "outputId": "8b94108c-0e41-4b25-ca94-dbe0e7b4045e",
        "colab": {
          "base_uri": "https://localhost:8080/"
        }
      },
      "execution_count": 2,
      "outputs": [
        {
          "output_type": "stream",
          "name": "stdout",
          "text": [
            "[[1 2 3]\n",
            " [4 5 6]]\n"
          ]
        }
      ]
    },
    {
      "cell_type": "code",
      "source": [
        "arr3 = np.array([[[1,2,3,],[4,5,6]] , [[11,22,30,],[41,5,56]]])\n",
        "print(arr3)"
      ],
      "metadata": {
        "id": "IG3kK1CaafO0",
        "outputId": "781ffbc4-84ae-418b-cbfe-ee709f6398f4",
        "colab": {
          "base_uri": "https://localhost:8080/"
        }
      },
      "execution_count": 3,
      "outputs": [
        {
          "output_type": "stream",
          "name": "stdout",
          "text": [
            "[[[ 1  2  3]\n",
            "  [ 4  5  6]]\n",
            "\n",
            " [[11 22 30]\n",
            "  [41  5 56]]]\n"
          ]
        }
      ]
    },
    {
      "cell_type": "code",
      "source": [
        "arr4 = np.array([[[1,2,3,],[4,5,6],[7,8,9]]])\n",
        "print(arr4)"
      ],
      "metadata": {
        "id": "Gm1H_qsvawrb",
        "outputId": "1bcf59d3-5936-4a56-be2e-f1e8d0508df4",
        "colab": {
          "base_uri": "https://localhost:8080/"
        }
      },
      "execution_count": 4,
      "outputs": [
        {
          "output_type": "stream",
          "name": "stdout",
          "text": [
            "[[[1 2 3]\n",
            "  [4 5 6]\n",
            "  [7 8 9]]]\n"
          ]
        }
      ]
    },
    {
      "cell_type": "code",
      "source": [
        "print(arr1.ndim)\n",
        "print(arr2.ndim)\n",
        "print(arr3.ndim)\n",
        "print(arr4.ndim)"
      ],
      "metadata": {
        "id": "VNDxuQWCbSo5",
        "outputId": "89f031c7-0260-4736-d247-97f90baffb16",
        "colab": {
          "base_uri": "https://localhost:8080/"
        }
      },
      "execution_count": 7,
      "outputs": [
        {
          "output_type": "stream",
          "name": "stdout",
          "text": [
            "1\n",
            "2\n",
            "3\n",
            "3\n"
          ]
        }
      ]
    },
    {
      "cell_type": "code",
      "source": [
        "arr5 = np.array([1,2,3,4,5], ndmin=5)\n",
        "print(arr5)\n",
        "print('Number of dimentions:', arr5.ndim)"
      ],
      "metadata": {
        "id": "kQ-9O2RAboYp",
        "outputId": "9ec7a6b6-cb1a-4035-dab6-b68c1f9ab6ee",
        "colab": {
          "base_uri": "https://localhost:8080/"
        }
      },
      "execution_count": 8,
      "outputs": [
        {
          "output_type": "stream",
          "name": "stdout",
          "text": [
            "[[[[[1 2 3 4 5]]]]]\n",
            "Number pf dimentions: 5\n"
          ]
        }
      ]
    },
    {
      "cell_type": "code",
      "source": [
        "arr6 = np.array([], ndmin=6)\n",
        "print(arr6)\n",
        "print('Number of dimentions:', arr6.ndim)"
      ],
      "metadata": {
        "id": "tp9n3W71cIBF",
        "outputId": "d74ecd79-75c2-4cb9-9f86-ebcec468ec40",
        "colab": {
          "base_uri": "https://localhost:8080/"
        }
      },
      "execution_count": 10,
      "outputs": [
        {
          "output_type": "stream",
          "name": "stdout",
          "text": [
            "[]\n",
            "Number of dimentions: 6\n"
          ]
        }
      ]
    },
    {
      "cell_type": "code",
      "source": [
        "arr6 = np.array([1], ndmin=6)\n",
        "print(arr6)\n",
        "print('Number of dimentions:', arr6.ndim)"
      ],
      "metadata": {
        "id": "R8jFzzy3cp4i",
        "outputId": "e28b8992-27e7-4203-e5a6-e10980c23665",
        "colab": {
          "base_uri": "https://localhost:8080/"
        }
      },
      "execution_count": 11,
      "outputs": [
        {
          "output_type": "stream",
          "name": "stdout",
          "text": [
            "[[[[[[1]]]]]]\n",
            "Number of dimentions: 6\n"
          ]
        }
      ]
    },
    {
      "cell_type": "code",
      "source": [
        "arr6 = np.array([[1],[2],[3]], ndmin=6)\n",
        "print(arr6)\n",
        "print('Number of dimentions:', arr6.ndim)"
      ],
      "metadata": {
        "id": "fl5mzX_-cvHc",
        "outputId": "d03ab173-19ef-4550-a4c1-b2b0a4c026a0",
        "colab": {
          "base_uri": "https://localhost:8080/"
        }
      },
      "execution_count": 13,
      "outputs": [
        {
          "output_type": "stream",
          "name": "stdout",
          "text": [
            "[[[[[[1]\n",
            "     [2]\n",
            "     [3]]]]]]\n",
            "Number of dimentions: 6\n"
          ]
        }
      ]
    },
    {
      "cell_type": "code",
      "source": [
        "arr7 = np.array([1,2,3,4,5])\n",
        "print(arr7[0])\n",
        "print(arr7[0:2])\n",
        "print(arr7[0::2])\n",
        "print(arr7[0::-1])\n",
        "print(arr7[::-1])"
      ],
      "metadata": {
        "id": "tVpND6Ggdoiw",
        "outputId": "dfe5f26e-a4be-4697-fe87-6f462ef2357c",
        "colab": {
          "base_uri": "https://localhost:8080/"
        }
      },
      "execution_count": 17,
      "outputs": [
        {
          "output_type": "stream",
          "name": "stdout",
          "text": [
            "1\n",
            "[1 2]\n",
            "[1 3 5]\n",
            "[1]\n",
            "[5 4 3 2 1]\n"
          ]
        }
      ]
    },
    {
      "cell_type": "code",
      "source": [
        "arr8 = np.array([[1,2,3,],[4,5,6]])\n",
        "print(arr8[0,0])\n",
        "print(arr8[0,1])\n",
        "print(arr8[0,2])\n",
        "print(arr8[1,0])\n",
        "print(arr8[1,1])\n",
        "print(arr8[1,2])             #accessing values in multi dimention\n",
        "print(arr8[-1,-1])           #negative indexing\n",
        "print(arr8[-1,-2])"
      ],
      "metadata": {
        "id": "ocIDgJVweMDb",
        "outputId": "ef42d7ac-bcb9-4d2d-829b-3141d7749da9",
        "colab": {
          "base_uri": "https://localhost:8080/"
        }
      },
      "execution_count": 23,
      "outputs": [
        {
          "output_type": "stream",
          "name": "stdout",
          "text": [
            "1\n",
            "2\n",
            "3\n",
            "4\n",
            "5\n",
            "6\n",
            "6\n",
            "5\n"
          ]
        }
      ]
    },
    {
      "cell_type": "code",
      "source": [
        "arr9 = np.array([[[1,2,3,],[4,5,6]] , [[11,21,30,],[41,52,56]]])\n",
        "print(arr9[0,1,2])\n",
        "print(arr9[1,1,2])\n",
        "print(arr9[1,0,2])\n",
        "print(arr9[1,0,1])"
      ],
      "metadata": {
        "id": "Ki3w124xewn1",
        "outputId": "fe065d34-f8ff-41dd-fef3-27c56dbea46e",
        "colab": {
          "base_uri": "https://localhost:8080/"
        }
      },
      "execution_count": 26,
      "outputs": [
        {
          "output_type": "stream",
          "name": "stdout",
          "text": [
            "6\n",
            "56\n",
            "30\n",
            "21\n"
          ]
        }
      ]
    },
    {
      "cell_type": "code",
      "source": [
        "#Slicing\n",
        "arr7 = np.array([1,2,3,4,5])\n",
        "l = arr7[1:4]\n",
        "print(l)\n",
        "l2 = list(l)    #constructor\n",
        "print(\"type of l2: \",type(l2))\n",
        "print(type(l))\n",
        "l3 = list(arr7)\n",
        "print(type(l3))\n",
        "print(l3)"
      ],
      "metadata": {
        "id": "v4hZcA57gciZ",
        "outputId": "a27e5fe9-0a3a-49e1-f0a7-0386f77791f7",
        "colab": {
          "base_uri": "https://localhost:8080/"
        }
      },
      "execution_count": 33,
      "outputs": [
        {
          "output_type": "stream",
          "name": "stdout",
          "text": [
            "[2 3 4]\n",
            "type of l2:  <class 'list'>\n",
            "<class 'numpy.ndarray'>\n",
            "<class 'list'>\n",
            "[1, 2, 3, 4, 5]\n"
          ]
        }
      ]
    },
    {
      "cell_type": "code",
      "source": [
        "arr7 = np.array([1,2,3,4,5])\n",
        "print(arr7[-3:-1])\n",
        "print([arr7[-3:-1]])"
      ],
      "metadata": {
        "id": "GnaS8s6UiT-H",
        "outputId": "ba59dcc3-d96c-4f84-f2f1-aa1fc293630a",
        "colab": {
          "base_uri": "https://localhost:8080/"
        }
      },
      "execution_count": 36,
      "outputs": [
        {
          "output_type": "stream",
          "name": "stdout",
          "text": [
            "[3 4]\n",
            "[array([3, 4])]\n"
          ]
        }
      ]
    },
    {
      "cell_type": "code",
      "source": [
        "arr9 = np.array([[1,2,3,4,5,6],[7,8,9,10,11,12]])\n",
        "print(arr9)\n",
        "print(arr9[1:4,1:3])"
      ],
      "metadata": {
        "id": "Y7ey9W1bj-Sg",
        "outputId": "65e187ad-8d96-4180-b868-2d183c07d5dd",
        "colab": {
          "base_uri": "https://localhost:8080/"
        }
      },
      "execution_count": 42,
      "outputs": [
        {
          "output_type": "stream",
          "name": "stdout",
          "text": [
            "[[ 1  2  3  4  5  6]\n",
            " [ 7  8  9 10 11 12]]\n",
            "[[8 9]]\n"
          ]
        }
      ]
    },
    {
      "cell_type": "code",
      "source": [
        "arr2 = np.array([1,2,3,4,1.1])\n",
        "print(arr2.dtype)"
      ],
      "metadata": {
        "id": "uEJlz6kplt7r",
        "outputId": "c2cfe3a6-3f57-439c-b0ed-e7e40718a2b2",
        "colab": {
          "base_uri": "https://localhost:8080/"
        }
      },
      "execution_count": 43,
      "outputs": [
        {
          "output_type": "stream",
          "name": "stdout",
          "text": [
            "float64\n"
          ]
        }
      ]
    },
    {
      "cell_type": "code",
      "source": [
        "arr2 = np.array([1,2,3,4,\"NTT\"])\n",
        "print(arr2.dtype)"
      ],
      "metadata": {
        "id": "Q65h1QK6l5e2",
        "outputId": "f09d0c90-7534-4a91-e1d1-fe9f292862ee",
        "colab": {
          "base_uri": "https://localhost:8080/"
        }
      },
      "execution_count": 45,
      "outputs": [
        {
          "output_type": "stream",
          "name": "stdout",
          "text": [
            "<U21\n"
          ]
        }
      ]
    },
    {
      "cell_type": "code",
      "source": [
        "arr2 = np.array([1,2,3,4,1.1])\n",
        "print(arr2.dtype)\n",
        "print(arr2[0]+arr2[1])"
      ],
      "metadata": {
        "id": "UsTRtaA6mDHr",
        "outputId": "39eeb779-ccc9-4b7d-cceb-f8830c647e3a",
        "colab": {
          "base_uri": "https://localhost:8080/"
        }
      },
      "execution_count": 47,
      "outputs": [
        {
          "output_type": "stream",
          "name": "stdout",
          "text": [
            "float64\n",
            "3.0\n"
          ]
        }
      ]
    },
    {
      "cell_type": "code",
      "source": [
        "arr2 = np.array([1,2,3,4,\"NTT\"])\n",
        "print(arr2.dtype)\n",
        "print(arr2[0]+arr2[4]) #concatination has happened."
      ],
      "metadata": {
        "id": "w5VkoMfgmV0a",
        "outputId": "da41fd51-933f-4f22-ad46-4bc2a147ae88",
        "colab": {
          "base_uri": "https://localhost:8080/"
        }
      },
      "execution_count": 48,
      "outputs": [
        {
          "output_type": "stream",
          "name": "stdout",
          "text": [
            "<U21\n",
            "1NTT\n"
          ]
        }
      ]
    },
    {
      "cell_type": "code",
      "source": [
        "arr = np.array([1,2,3,4], dtype=\"S\")  #specifying the datatype as String\n",
        "print(arr)\n",
        "print(arr.dtype)"
      ],
      "metadata": {
        "id": "vXSN-Kwvmkby",
        "outputId": "f18147db-4e1a-443c-defc-22e687b0fd4a",
        "colab": {
          "base_uri": "https://localhost:8080/"
        }
      },
      "execution_count": 50,
      "outputs": [
        {
          "output_type": "stream",
          "name": "stdout",
          "text": [
            "[b'1' b'2' b'3' b'4']\n",
            "|S1\n"
          ]
        }
      ]
    },
    {
      "cell_type": "code",
      "source": [
        "arr = np.array([1,2,3,4], dtype=\"i4\")  #specifying the datatype as String\n",
        "print(arr)\n",
        "print(arr.dtype)"
      ],
      "metadata": {
        "id": "EOM4yHhYndep",
        "outputId": "90aa5176-5ba2-448e-db01-6196dfc0da62",
        "colab": {
          "base_uri": "https://localhost:8080/"
        }
      },
      "execution_count": 51,
      "outputs": [
        {
          "output_type": "stream",
          "name": "stdout",
          "text": [
            "[1 2 3 4]\n",
            "int32\n"
          ]
        }
      ]
    },
    {
      "cell_type": "code",
      "source": [
        "arr = np.array([1,2,3,4], dtype=\"i8\")  #specifying the datatype as String\n",
        "print(arr)\n",
        "print(arr.dtype)"
      ],
      "metadata": {
        "id": "gI4RfY2TnmlQ",
        "outputId": "0f06b6c6-851c-44be-e15d-02233cdb4766",
        "colab": {
          "base_uri": "https://localhost:8080/"
        }
      },
      "execution_count": 52,
      "outputs": [
        {
          "output_type": "stream",
          "name": "stdout",
          "text": [
            "[1 2 3 4]\n",
            "int64\n"
          ]
        }
      ]
    },
    {
      "cell_type": "code",
      "source": [
        "arr2 = np.array([1.1,2.0,3.0,4.0,5])\n",
        "na = arr2.astype(\"i\")\n",
        "print(na)\n",
        "print(na.dtype)"
      ],
      "metadata": {
        "id": "f9_QSicsnrc1",
        "outputId": "df98abe4-4a1f-4a54-a1f7-fd3e6472daf4",
        "colab": {
          "base_uri": "https://localhost:8080/"
        }
      },
      "execution_count": 53,
      "outputs": [
        {
          "output_type": "stream",
          "name": "stdout",
          "text": [
            "[1 2 3 4 5]\n",
            "int32\n"
          ]
        }
      ]
    },
    {
      "cell_type": "code",
      "source": [
        "arr2 = np.array([1.1,2.0,3.0,4.0,5])\n",
        "na = arr2.astype(int)\n",
        "print(na)\n",
        "print(na.dtype)"
      ],
      "metadata": {
        "id": "pgEu4J6AohCA",
        "outputId": "39ea4b44-8636-4133-d06f-18337e105ccf",
        "colab": {
          "base_uri": "https://localhost:8080/"
        }
      },
      "execution_count": 54,
      "outputs": [
        {
          "output_type": "stream",
          "name": "stdout",
          "text": [
            "[1 2 3 4 5]\n",
            "int64\n"
          ]
        }
      ]
    },
    {
      "cell_type": "code",
      "source": [
        "arr2 = np.array([1.1,2.0,3.0,4.0,0.0])\n",
        "na = arr2.astype(bool)\n",
        "print(na)\n",
        "print(na.dtype)"
      ],
      "metadata": {
        "id": "g7NJYvM6olsz",
        "outputId": "f92b58ed-96e4-4e38-d256-7b15f672d3ed",
        "colab": {
          "base_uri": "https://localhost:8080/"
        }
      },
      "execution_count": 59,
      "outputs": [
        {
          "output_type": "stream",
          "name": "stdout",
          "text": [
            "[ True  True  True  True False]\n",
            "bool\n"
          ]
        }
      ]
    },
    {
      "cell_type": "code",
      "source": [
        "# copy vs view\n",
        "arr = np.array([1,2,3,4,5])\n",
        "x=arr.copy()\n",
        "arr[0] = 42\n",
        "print(arr)\n",
        "print(x)"
      ],
      "metadata": {
        "id": "ybJwyRIjor_t",
        "outputId": "bf43dabd-f187-4b06-df42-211800cb4908",
        "colab": {
          "base_uri": "https://localhost:8080/"
        }
      },
      "execution_count": 60,
      "outputs": [
        {
          "output_type": "stream",
          "name": "stdout",
          "text": [
            "[42  2  3  4  5]\n",
            "[1 2 3 4 5]\n"
          ]
        }
      ]
    },
    {
      "cell_type": "code",
      "source": [
        "arr = np.array([1,2,3,4,5])\n",
        "x=arr.view()\n",
        "arr[0] = 42\n",
        "print(arr)\n",
        "print(x)"
      ],
      "metadata": {
        "id": "7lk2wWv5pz5E",
        "outputId": "72f1ad8c-ecd6-4226-cf72-505f38b90a0f",
        "colab": {
          "base_uri": "https://localhost:8080/"
        }
      },
      "execution_count": 61,
      "outputs": [
        {
          "output_type": "stream",
          "name": "stdout",
          "text": [
            "[42  2  3  4  5]\n",
            "[42  2  3  4  5]\n"
          ]
        }
      ]
    },
    {
      "cell_type": "code",
      "source": [
        "#Numpy Array Shape\n",
        "\n",
        "arr3 = np.array([[1,2,3,8,9,10],[4,5,6,9,9,9]])\n",
        "print(arr3.shape)"
      ],
      "metadata": {
        "id": "EcI3akJCp3kT",
        "outputId": "054d9f95-df40-4be8-ab20-63205e7547ba",
        "colab": {
          "base_uri": "https://localhost:8080/"
        }
      },
      "execution_count": 63,
      "outputs": [
        {
          "output_type": "stream",
          "name": "stdout",
          "text": [
            "(2, 6)\n"
          ]
        }
      ]
    },
    {
      "cell_type": "code",
      "source": [
        "arr = np.array([1,2,3,4],ndmin=5)\n",
        "print(arr)\n",
        "print('Shape pf array :', arr.shape)"
      ],
      "metadata": {
        "id": "HltAABjiqidy",
        "outputId": "70020fff-4cda-44eb-fa4e-5b9f598e0728",
        "colab": {
          "base_uri": "https://localhost:8080/"
        }
      },
      "execution_count": 64,
      "outputs": [
        {
          "output_type": "stream",
          "name": "stdout",
          "text": [
            "[[[[[1 2 3 4]]]]]\n",
            "Shape pf array : (1, 1, 1, 1, 4)\n"
          ]
        }
      ]
    },
    {
      "cell_type": "code",
      "source": [
        "arr = np.array([[1,2,3,4],[8,9,10,11]],ndmin=5)\n",
        "print(arr)\n",
        "print('Shape pf array :', arr.shape)"
      ],
      "metadata": {
        "id": "MK-hIbsmq9jZ",
        "outputId": "c593ccba-0582-4034-9c04-1cedb4b17ce8",
        "colab": {
          "base_uri": "https://localhost:8080/"
        }
      },
      "execution_count": 65,
      "outputs": [
        {
          "output_type": "stream",
          "name": "stdout",
          "text": [
            "[[[[[ 1  2  3  4]\n",
            "    [ 8  9 10 11]]]]]\n",
            "Shape pf array : (1, 1, 1, 2, 4)\n"
          ]
        }
      ]
    },
    {
      "cell_type": "code",
      "source": [
        "arr = np.array([[[1,2,3,4],[8,9,10,11]],[[1,2,3,4],[8,9,10,11]]],ndmin=5)\n",
        "print(arr)\n",
        "print('Shape pf array :', arr.shape)"
      ],
      "metadata": {
        "id": "svZWMQAmrQdR",
        "outputId": "123906c3-188d-4e0d-d5b0-898610cc7f17",
        "colab": {
          "base_uri": "https://localhost:8080/"
        }
      },
      "execution_count": 66,
      "outputs": [
        {
          "output_type": "stream",
          "name": "stdout",
          "text": [
            "[[[[[ 1  2  3  4]\n",
            "    [ 8  9 10 11]]\n",
            "\n",
            "   [[ 1  2  3  4]\n",
            "    [ 8  9 10 11]]]]]\n",
            "Shape pf array : (1, 1, 2, 2, 4)\n"
          ]
        }
      ]
    },
    {
      "cell_type": "code",
      "source": [
        "#Reshaping\n",
        "\n",
        "arr = np.array([1,2,3,4,5,6,7,8,9,10,11,12])\n",
        "newarr= arr.reshape(4,3)\n",
        "print(newarr)"
      ],
      "metadata": {
        "id": "5szDqCBfreVS",
        "outputId": "8d69182d-7caf-41fb-de3f-a34995fd3902",
        "colab": {
          "base_uri": "https://localhost:8080/"
        }
      },
      "execution_count": 67,
      "outputs": [
        {
          "output_type": "stream",
          "name": "stdout",
          "text": [
            "[[ 1  2  3]\n",
            " [ 4  5  6]\n",
            " [ 7  8  9]\n",
            " [10 11 12]]\n"
          ]
        }
      ]
    },
    {
      "cell_type": "code",
      "source": [
        "#Reshaping\n",
        "\n",
        "arr = np.array([1,2,3,4,5,6,7,8,9,10,11,12])\n",
        "newarr= arr.reshape(2,3,2)\n",
        "print(newarr)"
      ],
      "metadata": {
        "id": "WFXdoetur20R",
        "outputId": "75497bf7-354c-4265-fd8f-ed0bf104e28d",
        "colab": {
          "base_uri": "https://localhost:8080/"
        }
      },
      "execution_count": 68,
      "outputs": [
        {
          "output_type": "stream",
          "name": "stdout",
          "text": [
            "[[[ 1  2]\n",
            "  [ 3  4]\n",
            "  [ 5  6]]\n",
            "\n",
            " [[ 7  8]\n",
            "  [ 9 10]\n",
            "  [11 12]]]\n"
          ]
        }
      ]
    },
    {
      "cell_type": "code",
      "source": [
        "arr = np.array([1,2,3,4,5,6,7,8,9,10,11,12,13])\n",
        "newarr= arr.reshape(2,3,2)\n",
        "print(newarr)"
      ],
      "metadata": {
        "id": "JH6VGmvesBtt",
        "outputId": "3581c508-bba5-44b1-ca68-bcbbcf554c67",
        "colab": {
          "base_uri": "https://localhost:8080/",
          "height": 176
        }
      },
      "execution_count": 69,
      "outputs": [
        {
          "output_type": "error",
          "ename": "ValueError",
          "evalue": "cannot reshape array of size 13 into shape (2,3,2)",
          "traceback": [
            "\u001b[0;31m---------------------------------------------------------------------------\u001b[0m",
            "\u001b[0;31mValueError\u001b[0m                                Traceback (most recent call last)",
            "\u001b[0;32m<ipython-input-69-46f8ab7bed6f>\u001b[0m in \u001b[0;36m<cell line: 2>\u001b[0;34m()\u001b[0m\n\u001b[1;32m      1\u001b[0m \u001b[0marr\u001b[0m \u001b[0;34m=\u001b[0m \u001b[0mnp\u001b[0m\u001b[0;34m.\u001b[0m\u001b[0marray\u001b[0m\u001b[0;34m(\u001b[0m\u001b[0;34m[\u001b[0m\u001b[0;36m1\u001b[0m\u001b[0;34m,\u001b[0m\u001b[0;36m2\u001b[0m\u001b[0;34m,\u001b[0m\u001b[0;36m3\u001b[0m\u001b[0;34m,\u001b[0m\u001b[0;36m4\u001b[0m\u001b[0;34m,\u001b[0m\u001b[0;36m5\u001b[0m\u001b[0;34m,\u001b[0m\u001b[0;36m6\u001b[0m\u001b[0;34m,\u001b[0m\u001b[0;36m7\u001b[0m\u001b[0;34m,\u001b[0m\u001b[0;36m8\u001b[0m\u001b[0;34m,\u001b[0m\u001b[0;36m9\u001b[0m\u001b[0;34m,\u001b[0m\u001b[0;36m10\u001b[0m\u001b[0;34m,\u001b[0m\u001b[0;36m11\u001b[0m\u001b[0;34m,\u001b[0m\u001b[0;36m12\u001b[0m\u001b[0;34m,\u001b[0m\u001b[0;36m13\u001b[0m\u001b[0;34m]\u001b[0m\u001b[0;34m)\u001b[0m\u001b[0;34m\u001b[0m\u001b[0;34m\u001b[0m\u001b[0m\n\u001b[0;32m----> 2\u001b[0;31m \u001b[0mnewarr\u001b[0m\u001b[0;34m=\u001b[0m \u001b[0marr\u001b[0m\u001b[0;34m.\u001b[0m\u001b[0mreshape\u001b[0m\u001b[0;34m(\u001b[0m\u001b[0;36m2\u001b[0m\u001b[0;34m,\u001b[0m\u001b[0;36m3\u001b[0m\u001b[0;34m,\u001b[0m\u001b[0;36m2\u001b[0m\u001b[0;34m)\u001b[0m\u001b[0;34m\u001b[0m\u001b[0;34m\u001b[0m\u001b[0m\n\u001b[0m\u001b[1;32m      3\u001b[0m \u001b[0mprint\u001b[0m\u001b[0;34m(\u001b[0m\u001b[0mnewarr\u001b[0m\u001b[0;34m)\u001b[0m\u001b[0;34m\u001b[0m\u001b[0;34m\u001b[0m\u001b[0m\n",
            "\u001b[0;31mValueError\u001b[0m: cannot reshape array of size 13 into shape (2,3,2)"
          ]
        }
      ]
    },
    {
      "cell_type": "code",
      "source": [
        "arr = np.array([1,2,3,4,5,6,7,8,9,10,0,12])\n",
        "newarr= arr.reshape(2,3,2)\n",
        "print(newarr)"
      ],
      "metadata": {
        "id": "Ef_a9l_GsNaq",
        "outputId": "506222f6-16cc-4130-89bc-d93e6384bc5d",
        "colab": {
          "base_uri": "https://localhost:8080/"
        }
      },
      "execution_count": 77,
      "outputs": [
        {
          "output_type": "stream",
          "name": "stdout",
          "text": [
            "[[[ 1  2]\n",
            "  [ 3  4]\n",
            "  [ 5  6]]\n",
            "\n",
            " [[ 7  8]\n",
            "  [ 9 10]\n",
            "  [ 0 12]]]\n"
          ]
        }
      ]
    },
    {
      "cell_type": "code",
      "source": [
        "arr = np.array([1,2,3,4,5,6,7,8,9,10,0,12])\n",
        "newarr= arr.reshape(2,2,3)\n",
        "print(newarr)"
      ],
      "metadata": {
        "id": "bXRBTjTMuuus",
        "outputId": "ed63e61a-8544-4bd0-ceff-2108ec2a0d9f",
        "colab": {
          "base_uri": "https://localhost:8080/"
        }
      },
      "execution_count": 80,
      "outputs": [
        {
          "output_type": "stream",
          "name": "stdout",
          "text": [
            "[[[ 1  2  3]\n",
            "  [ 4  5  6]]\n",
            "\n",
            " [[ 7  8  9]\n",
            "  [10  0 12]]]\n"
          ]
        }
      ]
    },
    {
      "cell_type": "code",
      "source": [
        "arr = np.array([1,2,3,4,5,6,7,8,9,10,0,12])\n",
        "newarr= arr.reshape(2,2,-1)\n",
        "print(newarr)\n",
        "print(newarr.shape)"
      ],
      "metadata": {
        "id": "5GqbWppCsyt8",
        "outputId": "77260fac-649f-44f2-e06c-c91473f3fab6",
        "colab": {
          "base_uri": "https://localhost:8080/"
        }
      },
      "execution_count": 78,
      "outputs": [
        {
          "output_type": "stream",
          "name": "stdout",
          "text": [
            "[[[ 1  2  3]\n",
            "  [ 4  5  6]]\n",
            "\n",
            " [[ 7  8  9]\n",
            "  [10  0 12]]]\n",
            "(2, 2, 3)\n"
          ]
        }
      ]
    },
    {
      "cell_type": "code",
      "source": [
        "arr = np.array([1,2,3,4,5,6,7,8,9,10,0,12])\n",
        "newarr= arr.reshape(2,-1,2)\n",
        "print(newarr)\n",
        "print(newarr.shape)"
      ],
      "metadata": {
        "id": "xL12QgrYu18A",
        "outputId": "7d88c3bc-8c4e-4af9-fa20-58eb9ecd04bb",
        "colab": {
          "base_uri": "https://localhost:8080/"
        }
      },
      "execution_count": 81,
      "outputs": [
        {
          "output_type": "stream",
          "name": "stdout",
          "text": [
            "[[[ 1  2]\n",
            "  [ 3  4]\n",
            "  [ 5  6]]\n",
            "\n",
            " [[ 7  8]\n",
            "  [ 9 10]\n",
            "  [ 0 12]]]\n",
            "(2, 3, 2)\n"
          ]
        }
      ]
    },
    {
      "cell_type": "code",
      "source": [
        "arr = np.array([1,2,3,4,5,6,7,8,9,10,0,12])\n",
        "newarr= arr.reshape(2,-1,-1)\n",
        "print(newarr)\n",
        "print(newarr.shape)"
      ],
      "metadata": {
        "id": "yBP9djs1vaAD",
        "outputId": "68093d97-ab5a-427e-f940-b7ad956c74a7",
        "colab": {
          "base_uri": "https://localhost:8080/",
          "height": 211
        }
      },
      "execution_count": 83,
      "outputs": [
        {
          "output_type": "error",
          "ename": "ValueError",
          "evalue": "can only specify one unknown dimension",
          "traceback": [
            "\u001b[0;31m---------------------------------------------------------------------------\u001b[0m",
            "\u001b[0;31mValueError\u001b[0m                                Traceback (most recent call last)",
            "\u001b[0;32m<ipython-input-83-42d726b762c1>\u001b[0m in \u001b[0;36m<cell line: 2>\u001b[0;34m()\u001b[0m\n\u001b[1;32m      1\u001b[0m \u001b[0marr\u001b[0m \u001b[0;34m=\u001b[0m \u001b[0mnp\u001b[0m\u001b[0;34m.\u001b[0m\u001b[0marray\u001b[0m\u001b[0;34m(\u001b[0m\u001b[0;34m[\u001b[0m\u001b[0;36m1\u001b[0m\u001b[0;34m,\u001b[0m\u001b[0;36m2\u001b[0m\u001b[0;34m,\u001b[0m\u001b[0;36m3\u001b[0m\u001b[0;34m,\u001b[0m\u001b[0;36m4\u001b[0m\u001b[0;34m,\u001b[0m\u001b[0;36m5\u001b[0m\u001b[0;34m,\u001b[0m\u001b[0;36m6\u001b[0m\u001b[0;34m,\u001b[0m\u001b[0;36m7\u001b[0m\u001b[0;34m,\u001b[0m\u001b[0;36m8\u001b[0m\u001b[0;34m,\u001b[0m\u001b[0;36m9\u001b[0m\u001b[0;34m,\u001b[0m\u001b[0;36m10\u001b[0m\u001b[0;34m,\u001b[0m\u001b[0;36m0\u001b[0m\u001b[0;34m,\u001b[0m\u001b[0;36m12\u001b[0m\u001b[0;34m]\u001b[0m\u001b[0;34m)\u001b[0m\u001b[0;34m\u001b[0m\u001b[0;34m\u001b[0m\u001b[0m\n\u001b[0;32m----> 2\u001b[0;31m \u001b[0mnewarr\u001b[0m\u001b[0;34m=\u001b[0m \u001b[0marr\u001b[0m\u001b[0;34m.\u001b[0m\u001b[0mreshape\u001b[0m\u001b[0;34m(\u001b[0m\u001b[0;36m2\u001b[0m\u001b[0;34m,\u001b[0m\u001b[0;34m-\u001b[0m\u001b[0;36m1\u001b[0m\u001b[0;34m,\u001b[0m\u001b[0;34m-\u001b[0m\u001b[0;36m1\u001b[0m\u001b[0;34m)\u001b[0m\u001b[0;34m\u001b[0m\u001b[0;34m\u001b[0m\u001b[0m\n\u001b[0m\u001b[1;32m      3\u001b[0m \u001b[0mprint\u001b[0m\u001b[0;34m(\u001b[0m\u001b[0mnewarr\u001b[0m\u001b[0;34m)\u001b[0m\u001b[0;34m\u001b[0m\u001b[0;34m\u001b[0m\u001b[0m\n\u001b[1;32m      4\u001b[0m \u001b[0mprint\u001b[0m\u001b[0;34m(\u001b[0m\u001b[0mnewarr\u001b[0m\u001b[0;34m.\u001b[0m\u001b[0mshape\u001b[0m\u001b[0;34m)\u001b[0m\u001b[0;34m\u001b[0m\u001b[0;34m\u001b[0m\u001b[0m\n\u001b[1;32m      5\u001b[0m \u001b[0mna\u001b[0m \u001b[0;34m=\u001b[0m \u001b[0mnewarr\u001b[0m\u001b[0;34m\u001b[0m\u001b[0;34m\u001b[0m\u001b[0m\n",
            "\u001b[0;31mValueError\u001b[0m: can only specify one unknown dimension"
          ]
        }
      ]
    },
    {
      "cell_type": "code",
      "source": [
        "arr = np.array([1,2,3,4,5,6,7,8,9,10,0,12])\n",
        "newarr= arr.reshape(2,-1,3)\n",
        "print(newarr)\n",
        "print(newarr.shape)\n",
        "na = newarr"
      ],
      "metadata": {
        "id": "jkgJD2D0vd6t",
        "outputId": "5f619989-24ec-4061-daeb-4257b701cbd9",
        "colab": {
          "base_uri": "https://localhost:8080/"
        }
      },
      "execution_count": 85,
      "outputs": [
        {
          "output_type": "stream",
          "name": "stdout",
          "text": [
            "[[[ 1  2  3]\n",
            "  [ 4  5  6]]\n",
            "\n",
            " [[ 7  8  9]\n",
            "  [10  0 12]]]\n",
            "(2, 2, 3)\n"
          ]
        }
      ]
    },
    {
      "cell_type": "code",
      "source": [
        "print(na)\n",
        "nna = na.reshape(-1)\n",
        "print(nna)"
      ],
      "metadata": {
        "id": "AHa8Qk1Jv5x2",
        "outputId": "5cc186e7-46f2-4e1b-dfaa-e81f6209c4f0",
        "colab": {
          "base_uri": "https://localhost:8080/"
        }
      },
      "execution_count": 86,
      "outputs": [
        {
          "output_type": "stream",
          "name": "stdout",
          "text": [
            "[[[ 1  2  3]\n",
            "  [ 4  5  6]]\n",
            "\n",
            " [[ 7  8  9]\n",
            "  [10  0 12]]]\n",
            "[ 1  2  3  4  5  6  7  8  9 10  0 12]\n"
          ]
        }
      ]
    },
    {
      "cell_type": "code",
      "source": [],
      "metadata": {
        "id": "COtXyrgXwBak"
      },
      "execution_count": null,
      "outputs": []
    }
  ]
}