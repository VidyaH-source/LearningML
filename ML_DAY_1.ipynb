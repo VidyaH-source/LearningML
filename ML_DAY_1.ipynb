{
  "nbformat": 4,
  "nbformat_minor": 0,
  "metadata": {
    "colab": {
      "provenance": []
    },
    "kernelspec": {
      "name": "python3",
      "display_name": "Python 3"
    },
    "language_info": {
      "name": "python"
    }
  },
  "cells": [
    {
      "cell_type": "code",
      "execution_count": 2,
      "metadata": {
        "colab": {
          "base_uri": "https://localhost:8080/"
        },
        "id": "WBAgvCnxpRIK",
        "outputId": "ebd3d263-da8f-4c8d-87d3-bca4df8b9d43"
      },
      "outputs": [
        {
          "output_type": "stream",
          "name": "stdout",
          "text": [
            "Print the list l as [10, 20, 30]\n"
          ]
        }
      ],
      "source": [
        "# List Introduction\n",
        "\n",
        "l = [10, 20, 30]\n",
        "print(\"Print the list l as\", l)"
      ]
    },
    {
      "cell_type": "code",
      "source": [
        "# Checking the type of data structure\n",
        "print(type(l))"
      ],
      "metadata": {
        "colab": {
          "base_uri": "https://localhost:8080/"
        },
        "id": "SBzDDICpsdrd",
        "outputId": "36c84efa-18e9-4e9e-bf26-f1e14b4dbd73"
      },
      "execution_count": 4,
      "outputs": [
        {
          "output_type": "stream",
          "name": "stdout",
          "text": [
            "<class 'list'>\n"
          ]
        }
      ]
    },
    {
      "cell_type": "code",
      "source": [
        "# List as heterogenous\n",
        "l2 = [10, 20, 1.1111, \"NTT\"]\n",
        "print(l2)"
      ],
      "metadata": {
        "colab": {
          "base_uri": "https://localhost:8080/"
        },
        "id": "c9wXIL69tMbu",
        "outputId": "d7c66c73-eaa3-467d-deed-2de1be4d4c24"
      },
      "execution_count": 12,
      "outputs": [
        {
          "output_type": "stream",
          "name": "stdout",
          "text": [
            "[10, 20, 1.1111, 'NTT']\n"
          ]
        }
      ]
    },
    {
      "cell_type": "code",
      "source": [
        "# Finding length of the list\n",
        "print(len(l2))"
      ],
      "metadata": {
        "colab": {
          "base_uri": "https://localhost:8080/"
        },
        "id": "gPnI-ANYted1",
        "outputId": "3f5ff221-08ce-4287-db22-c64b1b0bf2b5"
      },
      "execution_count": 10,
      "outputs": [
        {
          "output_type": "stream",
          "name": "stdout",
          "text": [
            "3\n"
          ]
        }
      ]
    },
    {
      "cell_type": "code",
      "source": [
        "# list creation using Constructor List()\n",
        "\n",
        "l3 = list((10, 20, 3.3333))\n",
        "print(l3)\n",
        "print(type(l3))"
      ],
      "metadata": {
        "colab": {
          "base_uri": "https://localhost:8080/"
        },
        "id": "_p1FEqzUuUC3",
        "outputId": "d9597017-7825-40c2-df71-3425b6d43439"
      },
      "execution_count": 11,
      "outputs": [
        {
          "output_type": "stream",
          "name": "stdout",
          "text": [
            "[10, 20, 3.3333]\n",
            "<class 'list'>\n"
          ]
        }
      ]
    },
    {
      "cell_type": "code",
      "source": [
        "# Accessing elements in th list .. by using index.. indexing\n",
        "\n",
        "lis = [10,20,30,40,50,60,1.1,2.2,\"NTT\"]\n",
        "\n",
        "#Positive indexing\n",
        "print(lis[0])\n",
        "print(lis[1])\n",
        "print(lis[2])\n",
        "print(lis[3])\n",
        "print(lis[4])\n",
        "print(lis[5])\n",
        "print(lis[6])\n",
        "print(lis[8])"
      ],
      "metadata": {
        "colab": {
          "base_uri": "https://localhost:8080/"
        },
        "id": "wmiYOF7Uu_CP",
        "outputId": "5062d56a-b7e1-4ff0-ada7-7a199a4d2909"
      },
      "execution_count": 17,
      "outputs": [
        {
          "output_type": "stream",
          "name": "stdout",
          "text": [
            "10\n",
            "20\n",
            "30\n",
            "40\n",
            "50\n",
            "60\n",
            "1.1\n",
            "NTT\n"
          ]
        }
      ]
    },
    {
      "cell_type": "code",
      "source": [
        "#Negative indexing\n",
        "print(lis[-1])\n",
        "print(lis[-2])\n",
        "print(lis[-3])\n",
        "print(lis[-4])\n",
        "print(lis[-5])\n",
        "print(lis[-6])\n",
        "print(lis[-8])"
      ],
      "metadata": {
        "colab": {
          "base_uri": "https://localhost:8080/"
        },
        "id": "VGHJKW_ewXOk",
        "outputId": "504d5bc4-b151-4686-bda9-fdd17f7a1529"
      },
      "execution_count": 18,
      "outputs": [
        {
          "output_type": "stream",
          "name": "stdout",
          "text": [
            "NTT\n",
            "2.2\n",
            "1.1\n",
            "60\n",
            "50\n",
            "40\n",
            "20\n"
          ]
        }
      ]
    },
    {
      "cell_type": "code",
      "source": [
        "# range of positive index.. ending parameter will be excluded\n",
        "\n",
        "l = [10, 20, 30, 40, 50 ,60, 70, 80]\n",
        "print(l[2])\n",
        "print(l[0:7])\n",
        "print(l[2:6])\n",
        "print(l[3:4])\n"
      ],
      "metadata": {
        "colab": {
          "base_uri": "https://localhost:8080/"
        },
        "id": "j3z5oSsSxyL3",
        "outputId": "ad4b7014-dc81-4153-a231-64e52053168f"
      },
      "execution_count": 19,
      "outputs": [
        {
          "output_type": "stream",
          "name": "stdout",
          "text": [
            "30\n",
            "[10, 20, 30, 40, 50, 60, 70]\n",
            "[30, 40, 50, 60]\n",
            "[40]\n"
          ]
        }
      ]
    },
    {
      "cell_type": "code",
      "source": [
        "# range of negative index.. ending parameter will be excluded\n",
        "\n",
        "l = [10, 20, 30, 40, 50 ,60, 70, 80]\n",
        "print(l[-5:-1]) # start index should be smaller since -5 is smaller than -1\n",
        "print(l[0:8]) # to get the index\n",
        "print(l[2:10])\n"
      ],
      "metadata": {
        "colab": {
          "base_uri": "https://localhost:8080/"
        },
        "id": "INTLR7JCyZxZ",
        "outputId": "aa2ad09f-b1ab-41e8-eda2-d15557349b83"
      },
      "execution_count": 23,
      "outputs": [
        {
          "output_type": "stream",
          "name": "stdout",
          "text": [
            "[40, 50, 60, 70]\n",
            "[10, 20, 30, 40, 50, 60, 70, 80]\n",
            "[30, 40, 50, 60, 70, 80]\n"
          ]
        }
      ]
    },
    {
      "cell_type": "code",
      "source": [
        "print(l[8])  # point to index which do not exist will show error"
      ],
      "metadata": {
        "colab": {
          "base_uri": "https://localhost:8080/",
          "height": 141
        },
        "id": "h6ZXeK_x08TC",
        "outputId": "d9ed6dd5-e7a9-4493-8030-0d0855422cad"
      },
      "execution_count": 24,
      "outputs": [
        {
          "output_type": "error",
          "ename": "IndexError",
          "evalue": "list index out of range",
          "traceback": [
            "\u001b[0;31m---------------------------------------------------------------------------\u001b[0m",
            "\u001b[0;31mIndexError\u001b[0m                                Traceback (most recent call last)",
            "\u001b[0;32m<ipython-input-24-1a3fd27e2b6f>\u001b[0m in \u001b[0;36m<cell line: 1>\u001b[0;34m()\u001b[0m\n\u001b[0;32m----> 1\u001b[0;31m \u001b[0mprint\u001b[0m\u001b[0;34m(\u001b[0m\u001b[0ml\u001b[0m\u001b[0;34m[\u001b[0m\u001b[0;36m8\u001b[0m\u001b[0;34m]\u001b[0m\u001b[0;34m)\u001b[0m  \u001b[0;31m# point to index which do not exist will show error\u001b[0m\u001b[0;34m\u001b[0m\u001b[0;34m\u001b[0m\u001b[0m\n\u001b[0m",
            "\u001b[0;31mIndexError\u001b[0m: list index out of range"
          ]
        }
      ]
    },
    {
      "cell_type": "code",
      "source": [
        "# range 3 parameter\n",
        "\n",
        "l = [10, 20, 30, 40, 50 ,60, 70, 80]\n",
        "print(l[0:8:1])  # 3rd param minus 1 to skip the index\n",
        "print(l[0:8:2])\n",
        "print(l[0:8:3])"
      ],
      "metadata": {
        "colab": {
          "base_uri": "https://localhost:8080/"
        },
        "id": "iVu5ku3D1GrT",
        "outputId": "2107b81c-12ca-43d4-91e6-a34974c7e008"
      },
      "execution_count": 25,
      "outputs": [
        {
          "output_type": "stream",
          "name": "stdout",
          "text": [
            "[10, 20, 30, 40, 50, 60, 70, 80]\n",
            "[10, 30, 50, 70]\n",
            "[10, 40, 70]\n"
          ]
        }
      ]
    },
    {
      "cell_type": "code",
      "source": [
        "# optional range parameter\n",
        "\n",
        "l = [10, 20, 30, 40, 50 ,60, 70, 80]\n",
        "print(l[0:]) # by default the end index will be the last index\n",
        "print(l[:5]) # by default the start index is 0\n",
        "print(l[::]) # print full list, by default the step index will be -1.. so -1 minus with 1 will be 0\n",
        "print(l[::-1]) # to reverse"
      ],
      "metadata": {
        "colab": {
          "base_uri": "https://localhost:8080/"
        },
        "id": "ALt0rsYf1eS_",
        "outputId": "635e00e5-8133-4dfb-ac41-a819999f2fb0"
      },
      "execution_count": 26,
      "outputs": [
        {
          "output_type": "stream",
          "name": "stdout",
          "text": [
            "[10, 20, 30, 40, 50, 60, 70, 80]\n",
            "[10, 20, 30, 40, 50]\n",
            "[10, 20, 30, 40, 50, 60, 70, 80]\n",
            "[80, 70, 60, 50, 40, 30, 20, 10]\n"
          ]
        }
      ]
    },
    {
      "cell_type": "code",
      "source": [
        "l = [10, 20, 30, 40]\n",
        "l[0] = 200\n",
        "print(\"The index 0 will be replaced\",l)\n",
        "l[1:3] = ['NTT', 400]\n",
        "print(l)"
      ],
      "metadata": {
        "colab": {
          "base_uri": "https://localhost:8080/"
        },
        "id": "5pgcgBZx2ZkI",
        "outputId": "d3251078-9efc-461b-96e4-cb83090d763e"
      },
      "execution_count": 30,
      "outputs": [
        {
          "output_type": "stream",
          "name": "stdout",
          "text": [
            "The index 0 will be replaced [200, 20, 30, 40]\n",
            "[200, 'NTT', 400, 40]\n"
          ]
        }
      ]
    },
    {
      "cell_type": "code",
      "source": [
        "l = [10, 20, 30, 40, 50 ,60, 70, 80]\n",
        "print(l[-5:-1:-1])"
      ],
      "metadata": {
        "colab": {
          "base_uri": "https://localhost:8080/"
        },
        "id": "yutsss5v32-p",
        "outputId": "fd32a01d-5c02-499e-d6cb-f312de160ec7"
      },
      "execution_count": 31,
      "outputs": [
        {
          "output_type": "stream",
          "name": "stdout",
          "text": [
            "[]\n"
          ]
        }
      ]
    },
    {
      "cell_type": "code",
      "source": [
        "l = [10, 20, 30, 40, 50 ,60, 70, 80]\n",
        "print(l[-5:-1:1])"
      ],
      "metadata": {
        "colab": {
          "base_uri": "https://localhost:8080/"
        },
        "id": "Aoys85v242Ba",
        "outputId": "a1c58d1d-92ee-4ea4-a8cd-ce7216ae9e19"
      },
      "execution_count": 32,
      "outputs": [
        {
          "output_type": "stream",
          "name": "stdout",
          "text": [
            "[40, 50, 60, 70]\n"
          ]
        }
      ]
    },
    {
      "cell_type": "code",
      "source": [
        "l = [10, 20, 30, 40, 50 ,60, 70, 80]\n",
        "print(l[5:1:-1])"
      ],
      "metadata": {
        "colab": {
          "base_uri": "https://localhost:8080/"
        },
        "id": "Ix3MYLQw48Ik",
        "outputId": "3fcfad43-421c-4d61-b18b-4a48c23e3d8a"
      },
      "execution_count": 34,
      "outputs": [
        {
          "output_type": "stream",
          "name": "stdout",
          "text": [
            "[60, 50, 40, 30]\n"
          ]
        }
      ]
    },
    {
      "cell_type": "code",
      "source": [
        "l = [10, 20, 30, 40, 50 ,60, 70, 80]\n",
        "print(l[1:5:1])"
      ],
      "metadata": {
        "colab": {
          "base_uri": "https://localhost:8080/"
        },
        "id": "8B0Pp0HF5IC9",
        "outputId": "8bb0a76c-88ca-4554-bc2c-96c591ba5bab"
      },
      "execution_count": 36,
      "outputs": [
        {
          "output_type": "stream",
          "name": "stdout",
          "text": [
            "[20, 30, 40, 50]\n"
          ]
        }
      ]
    },
    {
      "cell_type": "code",
      "source": [
        "l = [10, 20, 30, 40, 50 ,60, 70, 80]\n",
        "print(l[5:1:1])"
      ],
      "metadata": {
        "colab": {
          "base_uri": "https://localhost:8080/"
        },
        "id": "1zbbsxPv5Vv-",
        "outputId": "41aabb11-7429-4c65-e0b8-a3ed5ef47e2f"
      },
      "execution_count": 37,
      "outputs": [
        {
          "output_type": "stream",
          "name": "stdout",
          "text": [
            "[]\n"
          ]
        }
      ]
    },
    {
      "cell_type": "code",
      "source": [
        "l = [10, 20, 30, 40, 50 ,60, 70, 80]\n",
        "print(l[5:1])"
      ],
      "metadata": {
        "colab": {
          "base_uri": "https://localhost:8080/"
        },
        "id": "w8ZAvWfp5arV",
        "outputId": "e16b606c-1721-455b-fac4-a65789128da8"
      },
      "execution_count": 38,
      "outputs": [
        {
          "output_type": "stream",
          "name": "stdout",
          "text": [
            "[]\n"
          ]
        }
      ]
    },
    {
      "cell_type": "code",
      "source": [
        "l = [10, 20, 30, 40, 50 ,60, 70, 80]\n",
        "print(l[-1:-8:-1])"
      ],
      "metadata": {
        "colab": {
          "base_uri": "https://localhost:8080/"
        },
        "id": "HCcowEtO5ybr",
        "outputId": "e79f5da5-bfff-46fb-e0e6-e3903041a88f"
      },
      "execution_count": 39,
      "outputs": [
        {
          "output_type": "stream",
          "name": "stdout",
          "text": [
            "[80, 70, 60, 50, 40, 30, 20]\n"
          ]
        }
      ]
    },
    {
      "cell_type": "code",
      "source": [
        "l = [10, 20, 30, 40, 50 ,60, 70, 80]\n",
        "print(l[-8:-1:-1])"
      ],
      "metadata": {
        "colab": {
          "base_uri": "https://localhost:8080/"
        },
        "id": "kUSy_kw86nB3",
        "outputId": "dcd678e3-b6eb-4d22-901a-d4bda679eebd"
      },
      "execution_count": 40,
      "outputs": [
        {
          "output_type": "stream",
          "name": "stdout",
          "text": [
            "[]\n"
          ]
        }
      ]
    },
    {
      "cell_type": "code",
      "source": [
        "l = [10, 20, 30, 40, 50 ,60, 70, 80]\n",
        "print(l[-8:-1:1])"
      ],
      "metadata": {
        "colab": {
          "base_uri": "https://localhost:8080/"
        },
        "id": "7oXrdDeQ6r-D",
        "outputId": "605313f5-128b-49e3-a026-4189c15145af"
      },
      "execution_count": 41,
      "outputs": [
        {
          "output_type": "stream",
          "name": "stdout",
          "text": [
            "[10, 20, 30, 40, 50, 60, 70]\n"
          ]
        }
      ]
    },
    {
      "cell_type": "code",
      "source": [
        "l = [10, 20, 30, 40, 50 ,60, 70, 80]\n",
        "print(l[-10:-1:1])"
      ],
      "metadata": {
        "colab": {
          "base_uri": "https://localhost:8080/"
        },
        "id": "0HcJ53SC6w0v",
        "outputId": "65b65c7c-6acc-440b-a54a-fc965c83eafa"
      },
      "execution_count": 42,
      "outputs": [
        {
          "output_type": "stream",
          "name": "stdout",
          "text": [
            "[10, 20, 30, 40, 50, 60, 70]\n"
          ]
        }
      ]
    },
    {
      "cell_type": "code",
      "source": [
        "l = [10, 20, 30, 40]\n",
        "l[1:2] = [88,99]\n",
        "print(l)"
      ],
      "metadata": {
        "colab": {
          "base_uri": "https://localhost:8080/"
        },
        "id": "t5oHNdZl68b9",
        "outputId": "8e3cd32b-f0b5-4b19-97a8-090b084eab71"
      },
      "execution_count": 43,
      "outputs": [
        {
          "output_type": "stream",
          "name": "stdout",
          "text": [
            "[10, 88, 99, 30, 40]\n"
          ]
        }
      ]
    },
    {
      "cell_type": "code",
      "source": [
        "l = [10, 20, 30, 40]\n",
        "l[1:7] = [88]\n",
        "print(l)"
      ],
      "metadata": {
        "colab": {
          "base_uri": "https://localhost:8080/"
        },
        "id": "tMQHviLY72A5",
        "outputId": "f5acdf01-4f2e-4afd-f5cb-d91cb1cfed2c"
      },
      "execution_count": 44,
      "outputs": [
        {
          "output_type": "stream",
          "name": "stdout",
          "text": [
            "[10, 88]\n"
          ]
        }
      ]
    },
    {
      "cell_type": "code",
      "source": [
        "l = [10, 20, 30, 40]\n",
        "l[3] = [88,99,100]\n",
        "print(l)"
      ],
      "metadata": {
        "colab": {
          "base_uri": "https://localhost:8080/"
        },
        "id": "JLmOqmZE77ik",
        "outputId": "2805c293-6b4f-41f6-9d86-cff1f312aa5c"
      },
      "execution_count": 45,
      "outputs": [
        {
          "output_type": "stream",
          "name": "stdout",
          "text": [
            "[10, 20, 30, [88, 99, 100]]\n"
          ]
        }
      ]
    },
    {
      "cell_type": "code",
      "source": [
        "l = [10, 20, 30, 40]\n",
        "l[3:4] = [88,99,100]\n",
        "print(l)"
      ],
      "metadata": {
        "colab": {
          "base_uri": "https://localhost:8080/"
        },
        "id": "RbGx56iL8h9_",
        "outputId": "e831236b-5970-4c9c-f97f-1b5cf7962298"
      },
      "execution_count": 46,
      "outputs": [
        {
          "output_type": "stream",
          "name": "stdout",
          "text": [
            "[10, 20, 30, 88, 99, 100]\n"
          ]
        }
      ]
    },
    {
      "cell_type": "code",
      "source": [
        "#append .. add only one element to the end of the list\n",
        "l = [10, 20, 30, 40, 50 ,60, 70, 80]\n",
        "l.append(90)\n",
        "print(l)"
      ],
      "metadata": {
        "colab": {
          "base_uri": "https://localhost:8080/"
        },
        "id": "5sB63ehJ8nZY",
        "outputId": "22130d00-fda3-4e97-aa80-af0411d39436"
      },
      "execution_count": 47,
      "outputs": [
        {
          "output_type": "stream",
          "name": "stdout",
          "text": [
            "[10, 20, 30, 40, 50, 60, 70, 80, 90]\n"
          ]
        }
      ]
    },
    {
      "cell_type": "code",
      "source": [
        "#insert .. inserting values in the location\n",
        "l = [10, 20, 30, 40, 50 ,60, 70, 80, 90]\n",
        "l.insert(1,15)\n",
        "print(l)"
      ],
      "metadata": {
        "colab": {
          "base_uri": "https://localhost:8080/"
        },
        "id": "2_fwXuXA9Gzt",
        "outputId": "0efe10cd-d1f2-4cff-a7ea-a2648b66c539"
      },
      "execution_count": 48,
      "outputs": [
        {
          "output_type": "stream",
          "name": "stdout",
          "text": [
            "[10, 15, 20, 30, 40, 50, 60, 70, 80, 90]\n"
          ]
        }
      ]
    },
    {
      "cell_type": "code",
      "source": [
        "# extend\n",
        "\n",
        "l1 = [10,20,30]\n",
        "l2 = [40,50,60]\n",
        "l3 = [80, 90]\n",
        "\n",
        "l1.extend(l2)\n",
        "print(l1)\n",
        "print(l2)\n",
        "print(l3)\n",
        "\n",
        "l1.extend(l3)\n",
        "print(l1)\n"
      ],
      "metadata": {
        "colab": {
          "base_uri": "https://localhost:8080/"
        },
        "id": "nQ0LCND09bXV",
        "outputId": "73b616b1-f59f-4c96-bab6-ca3118d695ae"
      },
      "execution_count": 51,
      "outputs": [
        {
          "output_type": "stream",
          "name": "stdout",
          "text": [
            "[10, 20, 30, 40, 50, 60]\n",
            "[40, 50, 60]\n",
            "[80, 90]\n",
            "[10, 20, 30, 40, 50, 60, 80, 90]\n"
          ]
        }
      ]
    },
    {
      "cell_type": "code",
      "source": [
        "# remove the matching value from the list\n",
        "\n",
        "l1 = [10,20,30]\n",
        "l1.remove(20)\n",
        "print(l1)"
      ],
      "metadata": {
        "colab": {
          "base_uri": "https://localhost:8080/"
        },
        "id": "aDHpLTA5-kQO",
        "outputId": "d6608224-0698-4e22-a0c6-fc48481e314d"
      },
      "execution_count": 52,
      "outputs": [
        {
          "output_type": "stream",
          "name": "stdout",
          "text": [
            "[10, 30]\n"
          ]
        }
      ]
    },
    {
      "cell_type": "code",
      "source": [
        "# pop function\n",
        "\n",
        "l1 = [10,20,30, 40]\n",
        "l1.pop()\n",
        "print(l1)"
      ],
      "metadata": {
        "colab": {
          "base_uri": "https://localhost:8080/"
        },
        "id": "9tzay0Wx_Hy2",
        "outputId": "f07b3867-cb60-4e8c-93e1-842ec6d38b66"
      },
      "execution_count": 53,
      "outputs": [
        {
          "output_type": "stream",
          "name": "stdout",
          "text": [
            "[10, 20, 30]\n"
          ]
        }
      ]
    },
    {
      "cell_type": "code",
      "source": [
        "# pop function... index value will be deleted\n",
        "\n",
        "l1 = [10,20,30, 40]\n",
        "l1.pop(2)\n",
        "print(l1)"
      ],
      "metadata": {
        "colab": {
          "base_uri": "https://localhost:8080/"
        },
        "id": "ToxONhAx_Snw",
        "outputId": "8a6f0e52-85b7-473c-82e9-61b1a2815f74"
      },
      "execution_count": 54,
      "outputs": [
        {
          "output_type": "stream",
          "name": "stdout",
          "text": [
            "[10, 20, 40]\n"
          ]
        }
      ]
    },
    {
      "cell_type": "code",
      "source": [
        "# del function\n",
        "\n",
        "l1 = [10,20,30, 40]\n",
        "print(l1)\n",
        "\n",
        "del l1\n",
        "\n",
        "print(l1)"
      ],
      "metadata": {
        "colab": {
          "base_uri": "https://localhost:8080/",
          "height": 193
        },
        "id": "oLLW8Ipb_nXt",
        "outputId": "c57ce367-0940-4ff8-d35e-71ccc5cfb3f7"
      },
      "execution_count": 55,
      "outputs": [
        {
          "output_type": "stream",
          "name": "stdout",
          "text": [
            "[10, 20, 30, 40]\n"
          ]
        },
        {
          "output_type": "error",
          "ename": "NameError",
          "evalue": "name 'l1' is not defined",
          "traceback": [
            "\u001b[0;31m---------------------------------------------------------------------------\u001b[0m",
            "\u001b[0;31mNameError\u001b[0m                                 Traceback (most recent call last)",
            "\u001b[0;32m<ipython-input-55-3b2b6d4c4706>\u001b[0m in \u001b[0;36m<cell line: 8>\u001b[0;34m()\u001b[0m\n\u001b[1;32m      6\u001b[0m \u001b[0;32mdel\u001b[0m \u001b[0ml1\u001b[0m\u001b[0;34m\u001b[0m\u001b[0;34m\u001b[0m\u001b[0m\n\u001b[1;32m      7\u001b[0m \u001b[0;34m\u001b[0m\u001b[0m\n\u001b[0;32m----> 8\u001b[0;31m \u001b[0mprint\u001b[0m\u001b[0;34m(\u001b[0m\u001b[0ml1\u001b[0m\u001b[0;34m)\u001b[0m\u001b[0;34m\u001b[0m\u001b[0;34m\u001b[0m\u001b[0m\n\u001b[0m",
            "\u001b[0;31mNameError\u001b[0m: name 'l1' is not defined"
          ]
        }
      ]
    },
    {
      "cell_type": "code",
      "source": [
        "# del function\n",
        "\n",
        "l1 = [10,20,30, 40]\n",
        "print(l1)\n",
        "\n",
        "del l1[0:2]\n",
        "\n",
        "print(l1)"
      ],
      "metadata": {
        "colab": {
          "base_uri": "https://localhost:8080/"
        },
        "id": "GO2BeuYU_yd0",
        "outputId": "01b479f2-1cc0-49c5-aef7-ddd7527e8261"
      },
      "execution_count": 56,
      "outputs": [
        {
          "output_type": "stream",
          "name": "stdout",
          "text": [
            "[10, 20, 30, 40]\n",
            "[30, 40]\n"
          ]
        }
      ]
    },
    {
      "cell_type": "code",
      "source": [
        "# clear function to clearing the values in the list without deleting list\n",
        "l1 = [10,20,30, 40]\n",
        "l1.clear()\n",
        "print(l1)"
      ],
      "metadata": {
        "colab": {
          "base_uri": "https://localhost:8080/"
        },
        "id": "LhfG7-8yAAJJ",
        "outputId": "f6c0f51b-71f4-40c3-876a-78caae776a43"
      },
      "execution_count": 57,
      "outputs": [
        {
          "output_type": "stream",
          "name": "stdout",
          "text": [
            "[]\n"
          ]
        }
      ]
    },
    {
      "cell_type": "code",
      "source": [
        "# for loop\n",
        "\n",
        "l1 = [10, 20, 30, 40, 50, 60, 70, 80]\n",
        "\n",
        "for i in l1:\n",
        "  print(i)"
      ],
      "metadata": {
        "colab": {
          "base_uri": "https://localhost:8080/"
        },
        "id": "uNGu332rARI3",
        "outputId": "0fd2bee3-faad-4124-aaaf-84e7a6eff108"
      },
      "execution_count": 58,
      "outputs": [
        {
          "output_type": "stream",
          "name": "stdout",
          "text": [
            "10\n",
            "20\n",
            "30\n",
            "40\n",
            "50\n",
            "60\n",
            "70\n",
            "80\n"
          ]
        }
      ]
    },
    {
      "cell_type": "code",
      "source": [
        "# for loop\n",
        "\n",
        "l1 = [10, 20, 30, 40, 50, 60, 70, 80]\n",
        "\n",
        "for i in l1[0:4]:\n",
        "  print(i)"
      ],
      "metadata": {
        "colab": {
          "base_uri": "https://localhost:8080/"
        },
        "id": "WrYCFZmNAmIG",
        "outputId": "8e93f1f3-795a-4b66-eac9-f2bd7951a6a9"
      },
      "execution_count": 59,
      "outputs": [
        {
          "output_type": "stream",
          "name": "stdout",
          "text": [
            "10\n",
            "20\n",
            "30\n",
            "40\n"
          ]
        }
      ]
    },
    {
      "cell_type": "code",
      "source": [
        "# for loop\n",
        "\n",
        "l1 = [10, 20, 30, 40, 50, 60, 70, 80]\n",
        "\n",
        "for i in l1[3:4]:\n",
        "  print(i)"
      ],
      "metadata": {
        "colab": {
          "base_uri": "https://localhost:8080/"
        },
        "id": "6MoG7zXjA7MR",
        "outputId": "aa19eaa9-81ac-4359-ab9b-5668b116c1e6"
      },
      "execution_count": 60,
      "outputs": [
        {
          "output_type": "stream",
          "name": "stdout",
          "text": [
            "40\n"
          ]
        }
      ]
    },
    {
      "cell_type": "code",
      "source": [
        "# for loop\n",
        "\n",
        "l1 = [10, 20, 30, 40, 50, 60, 70, 80]\n",
        "\n",
        "for i in l1:\n",
        "  print(i)\n",
        "  print(i+5)\n",
        "\n",
        "print(l)"
      ],
      "metadata": {
        "colab": {
          "base_uri": "https://localhost:8080/"
        },
        "id": "p-4j-Vj8BAWh",
        "outputId": "a97af7f6-479c-474a-8b28-eaa522f925f9"
      },
      "execution_count": 64,
      "outputs": [
        {
          "output_type": "stream",
          "name": "stdout",
          "text": [
            "10\n",
            "15\n",
            "20\n",
            "25\n",
            "30\n",
            "35\n",
            "40\n",
            "45\n",
            "50\n",
            "55\n",
            "60\n",
            "65\n",
            "70\n",
            "75\n",
            "80\n",
            "85\n",
            "[10, 15, 20, 30, 40, 50, 60, 70, 80, 90]\n"
          ]
        }
      ]
    },
    {
      "cell_type": "code",
      "source": [],
      "metadata": {
        "id": "a2EvqhNfCUjn"
      },
      "execution_count": null,
      "outputs": []
    }
  ]
}