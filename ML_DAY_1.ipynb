{
  "nbformat": 4,
  "nbformat_minor": 0,
  "metadata": {
    "colab": {
      "provenance": []
    },
    "kernelspec": {
      "name": "python3",
      "display_name": "Python 3"
    },
    "language_info": {
      "name": "python"
    }
  },
  "cells": [
    {
      "cell_type": "code",
      "execution_count": null,
      "metadata": {
        "colab": {
          "base_uri": "https://localhost:8080/"
        },
        "id": "WBAgvCnxpRIK",
        "outputId": "ebd3d263-da8f-4c8d-87d3-bca4df8b9d43"
      },
      "outputs": [
        {
          "output_type": "stream",
          "name": "stdout",
          "text": [
            "Print the list l as [10, 20, 30]\n"
          ]
        }
      ],
      "source": [
        "# List Introduction\n",
        "\n",
        "l = [10, 20, 30]\n",
        "print(\"Print the list l as\", l)"
      ]
    },
    {
      "cell_type": "code",
      "source": [
        "# Checking the type of data structure\n",
        "print(type(l))"
      ],
      "metadata": {
        "colab": {
          "base_uri": "https://localhost:8080/"
        },
        "id": "SBzDDICpsdrd",
        "outputId": "36c84efa-18e9-4e9e-bf26-f1e14b4dbd73"
      },
      "execution_count": null,
      "outputs": [
        {
          "output_type": "stream",
          "name": "stdout",
          "text": [
            "<class 'list'>\n"
          ]
        }
      ]
    },
    {
      "cell_type": "code",
      "source": [
        "# List as heterogenous\n",
        "l2 = [10, 20, 1.1111, \"NTT\"]\n",
        "print(l2)"
      ],
      "metadata": {
        "colab": {
          "base_uri": "https://localhost:8080/"
        },
        "id": "c9wXIL69tMbu",
        "outputId": "d7c66c73-eaa3-467d-deed-2de1be4d4c24"
      },
      "execution_count": null,
      "outputs": [
        {
          "output_type": "stream",
          "name": "stdout",
          "text": [
            "[10, 20, 1.1111, 'NTT']\n"
          ]
        }
      ]
    },
    {
      "cell_type": "code",
      "source": [
        "# Finding length of the list\n",
        "print(len(l2))"
      ],
      "metadata": {
        "colab": {
          "base_uri": "https://localhost:8080/"
        },
        "id": "gPnI-ANYted1",
        "outputId": "3f5ff221-08ce-4287-db22-c64b1b0bf2b5"
      },
      "execution_count": null,
      "outputs": [
        {
          "output_type": "stream",
          "name": "stdout",
          "text": [
            "3\n"
          ]
        }
      ]
    },
    {
      "cell_type": "code",
      "source": [
        "# list creation using Constructor List()\n",
        "\n",
        "l3 = list((10, 20, 3.3333))\n",
        "print(l3)\n",
        "print(type(l3))"
      ],
      "metadata": {
        "colab": {
          "base_uri": "https://localhost:8080/"
        },
        "id": "_p1FEqzUuUC3",
        "outputId": "d9597017-7825-40c2-df71-3425b6d43439"
      },
      "execution_count": null,
      "outputs": [
        {
          "output_type": "stream",
          "name": "stdout",
          "text": [
            "[10, 20, 3.3333]\n",
            "<class 'list'>\n"
          ]
        }
      ]
    },
    {
      "cell_type": "code",
      "source": [
        "# Accessing elements in th list .. by using index.. indexing\n",
        "\n",
        "lis = [10,20,30,40,50,60,1.1,2.2,\"NTT\"]\n",
        "\n",
        "#Positive indexing\n",
        "print(lis[0])\n",
        "print(lis[1])\n",
        "print(lis[2])\n",
        "print(lis[3])\n",
        "print(lis[4])\n",
        "print(lis[5])\n",
        "print(lis[6])\n",
        "print(lis[8])"
      ],
      "metadata": {
        "colab": {
          "base_uri": "https://localhost:8080/"
        },
        "id": "wmiYOF7Uu_CP",
        "outputId": "5062d56a-b7e1-4ff0-ada7-7a199a4d2909"
      },
      "execution_count": null,
      "outputs": [
        {
          "output_type": "stream",
          "name": "stdout",
          "text": [
            "10\n",
            "20\n",
            "30\n",
            "40\n",
            "50\n",
            "60\n",
            "1.1\n",
            "NTT\n"
          ]
        }
      ]
    },
    {
      "cell_type": "code",
      "source": [
        "#Negative indexing\n",
        "print(lis[-1])\n",
        "print(lis[-2])\n",
        "print(lis[-3])\n",
        "print(lis[-4])\n",
        "print(lis[-5])\n",
        "print(lis[-6])\n",
        "print(lis[-8])"
      ],
      "metadata": {
        "colab": {
          "base_uri": "https://localhost:8080/"
        },
        "id": "VGHJKW_ewXOk",
        "outputId": "504d5bc4-b151-4686-bda9-fdd17f7a1529"
      },
      "execution_count": null,
      "outputs": [
        {
          "output_type": "stream",
          "name": "stdout",
          "text": [
            "NTT\n",
            "2.2\n",
            "1.1\n",
            "60\n",
            "50\n",
            "40\n",
            "20\n"
          ]
        }
      ]
    },
    {
      "cell_type": "code",
      "source": [
        "# range of positive index.. ending parameter will be excluded\n",
        "\n",
        "l = [10, 20, 30, 40, 50 ,60, 70, 80]\n",
        "print(l[2])\n",
        "print(l[0:7])\n",
        "print(l[2:6])\n",
        "print(l[3:4])\n"
      ],
      "metadata": {
        "colab": {
          "base_uri": "https://localhost:8080/"
        },
        "id": "j3z5oSsSxyL3",
        "outputId": "ad4b7014-dc81-4153-a231-64e52053168f"
      },
      "execution_count": null,
      "outputs": [
        {
          "output_type": "stream",
          "name": "stdout",
          "text": [
            "30\n",
            "[10, 20, 30, 40, 50, 60, 70]\n",
            "[30, 40, 50, 60]\n",
            "[40]\n"
          ]
        }
      ]
    },
    {
      "cell_type": "code",
      "source": [
        "# range of negative index.. ending parameter will be excluded\n",
        "\n",
        "l = [10, 20, 30, 40, 50 ,60, 70, 80]\n",
        "print(l[-5:-1]) # start index should be smaller since -5 is smaller than -1\n",
        "print(l[0:8]) # to get the index\n",
        "print(l[2:10])\n"
      ],
      "metadata": {
        "colab": {
          "base_uri": "https://localhost:8080/"
        },
        "id": "INTLR7JCyZxZ",
        "outputId": "aa2ad09f-b1ab-41e8-eda2-d15557349b83"
      },
      "execution_count": null,
      "outputs": [
        {
          "output_type": "stream",
          "name": "stdout",
          "text": [
            "[40, 50, 60, 70]\n",
            "[10, 20, 30, 40, 50, 60, 70, 80]\n",
            "[30, 40, 50, 60, 70, 80]\n"
          ]
        }
      ]
    },
    {
      "cell_type": "code",
      "source": [
        "print(l[8])  # point to index which do not exist will show error"
      ],
      "metadata": {
        "colab": {
          "base_uri": "https://localhost:8080/",
          "height": 141
        },
        "id": "h6ZXeK_x08TC",
        "outputId": "d9ed6dd5-e7a9-4493-8030-0d0855422cad"
      },
      "execution_count": null,
      "outputs": [
        {
          "output_type": "error",
          "ename": "IndexError",
          "evalue": "list index out of range",
          "traceback": [
            "\u001b[0;31m---------------------------------------------------------------------------\u001b[0m",
            "\u001b[0;31mIndexError\u001b[0m                                Traceback (most recent call last)",
            "\u001b[0;32m<ipython-input-24-1a3fd27e2b6f>\u001b[0m in \u001b[0;36m<cell line: 1>\u001b[0;34m()\u001b[0m\n\u001b[0;32m----> 1\u001b[0;31m \u001b[0mprint\u001b[0m\u001b[0;34m(\u001b[0m\u001b[0ml\u001b[0m\u001b[0;34m[\u001b[0m\u001b[0;36m8\u001b[0m\u001b[0;34m]\u001b[0m\u001b[0;34m)\u001b[0m  \u001b[0;31m# point to index which do not exist will show error\u001b[0m\u001b[0;34m\u001b[0m\u001b[0;34m\u001b[0m\u001b[0m\n\u001b[0m",
            "\u001b[0;31mIndexError\u001b[0m: list index out of range"
          ]
        }
      ]
    },
    {
      "cell_type": "code",
      "source": [
        "# range 3 parameter\n",
        "\n",
        "l = [10, 20, 30, 40, 50 ,60, 70, 80]\n",
        "print(l[0:8:1])  # 3rd param minus 1 to skip the index\n",
        "print(l[0:8:2])\n",
        "print(l[0:8:3])"
      ],
      "metadata": {
        "colab": {
          "base_uri": "https://localhost:8080/"
        },
        "id": "iVu5ku3D1GrT",
        "outputId": "2107b81c-12ca-43d4-91e6-a34974c7e008"
      },
      "execution_count": null,
      "outputs": [
        {
          "output_type": "stream",
          "name": "stdout",
          "text": [
            "[10, 20, 30, 40, 50, 60, 70, 80]\n",
            "[10, 30, 50, 70]\n",
            "[10, 40, 70]\n"
          ]
        }
      ]
    },
    {
      "cell_type": "code",
      "source": [
        "# optional range parameter\n",
        "\n",
        "l = [10, 20, 30, 40, 50 ,60, 70, 80]\n",
        "print(l[0:]) # by default the end index will be the last index\n",
        "print(l[:5]) # by default the start index is 0\n",
        "print(l[::]) # print full list, by default the step index will be -1.. so -1 minus with 1 will be 0\n",
        "print(l[::-1]) # to reverse"
      ],
      "metadata": {
        "colab": {
          "base_uri": "https://localhost:8080/"
        },
        "id": "ALt0rsYf1eS_",
        "outputId": "635e00e5-8133-4dfb-ac41-a819999f2fb0"
      },
      "execution_count": null,
      "outputs": [
        {
          "output_type": "stream",
          "name": "stdout",
          "text": [
            "[10, 20, 30, 40, 50, 60, 70, 80]\n",
            "[10, 20, 30, 40, 50]\n",
            "[10, 20, 30, 40, 50, 60, 70, 80]\n",
            "[80, 70, 60, 50, 40, 30, 20, 10]\n"
          ]
        }
      ]
    },
    {
      "cell_type": "code",
      "source": [
        "l = [10, 20, 30, 40]\n",
        "l[0] = 200\n",
        "print(\"The index 0 will be replaced\",l)\n",
        "l[1:3] = ['NTT', 400]\n",
        "print(l)"
      ],
      "metadata": {
        "colab": {
          "base_uri": "https://localhost:8080/"
        },
        "id": "5pgcgBZx2ZkI",
        "outputId": "d3251078-9efc-461b-96e4-cb83090d763e"
      },
      "execution_count": null,
      "outputs": [
        {
          "output_type": "stream",
          "name": "stdout",
          "text": [
            "The index 0 will be replaced [200, 20, 30, 40]\n",
            "[200, 'NTT', 400, 40]\n"
          ]
        }
      ]
    },
    {
      "cell_type": "code",
      "source": [
        "l = [10, 20, 30, 40, 50 ,60, 70, 80]\n",
        "print(l[-5:-1:-1])"
      ],
      "metadata": {
        "colab": {
          "base_uri": "https://localhost:8080/"
        },
        "id": "yutsss5v32-p",
        "outputId": "fd32a01d-5c02-499e-d6cb-f312de160ec7"
      },
      "execution_count": null,
      "outputs": [
        {
          "output_type": "stream",
          "name": "stdout",
          "text": [
            "[]\n"
          ]
        }
      ]
    },
    {
      "cell_type": "code",
      "source": [
        "l = [10, 20, 30, 40, 50 ,60, 70, 80]\n",
        "print(l[-5:-1:1])"
      ],
      "metadata": {
        "colab": {
          "base_uri": "https://localhost:8080/"
        },
        "id": "Aoys85v242Ba",
        "outputId": "a1c58d1d-92ee-4ea4-a8cd-ce7216ae9e19"
      },
      "execution_count": null,
      "outputs": [
        {
          "output_type": "stream",
          "name": "stdout",
          "text": [
            "[40, 50, 60, 70]\n"
          ]
        }
      ]
    },
    {
      "cell_type": "code",
      "source": [
        "l = [10, 20, 30, 40, 50 ,60, 70, 80]\n",
        "print(l[5:1:-1])"
      ],
      "metadata": {
        "colab": {
          "base_uri": "https://localhost:8080/"
        },
        "id": "Ix3MYLQw48Ik",
        "outputId": "3fcfad43-421c-4d61-b18b-4a48c23e3d8a"
      },
      "execution_count": null,
      "outputs": [
        {
          "output_type": "stream",
          "name": "stdout",
          "text": [
            "[60, 50, 40, 30]\n"
          ]
        }
      ]
    },
    {
      "cell_type": "code",
      "source": [
        "l = [10, 20, 30, 40, 50 ,60, 70, 80]\n",
        "print(l[1:5:1])"
      ],
      "metadata": {
        "colab": {
          "base_uri": "https://localhost:8080/"
        },
        "id": "8B0Pp0HF5IC9",
        "outputId": "8bb0a76c-88ca-4554-bc2c-96c591ba5bab"
      },
      "execution_count": null,
      "outputs": [
        {
          "output_type": "stream",
          "name": "stdout",
          "text": [
            "[20, 30, 40, 50]\n"
          ]
        }
      ]
    },
    {
      "cell_type": "code",
      "source": [
        "l = [10, 20, 30, 40, 50 ,60, 70, 80]\n",
        "print(l[5:1:1])"
      ],
      "metadata": {
        "colab": {
          "base_uri": "https://localhost:8080/"
        },
        "id": "1zbbsxPv5Vv-",
        "outputId": "41aabb11-7429-4c65-e0b8-a3ed5ef47e2f"
      },
      "execution_count": null,
      "outputs": [
        {
          "output_type": "stream",
          "name": "stdout",
          "text": [
            "[]\n"
          ]
        }
      ]
    },
    {
      "cell_type": "code",
      "source": [
        "l = [10, 20, 30, 40, 50 ,60, 70, 80]\n",
        "print(l[5:1])"
      ],
      "metadata": {
        "colab": {
          "base_uri": "https://localhost:8080/"
        },
        "id": "w8ZAvWfp5arV",
        "outputId": "e16b606c-1721-455b-fac4-a65789128da8"
      },
      "execution_count": null,
      "outputs": [
        {
          "output_type": "stream",
          "name": "stdout",
          "text": [
            "[]\n"
          ]
        }
      ]
    },
    {
      "cell_type": "code",
      "source": [
        "l = [10, 20, 30, 40, 50 ,60, 70, 80]\n",
        "print(l[-1:-8:-1])"
      ],
      "metadata": {
        "colab": {
          "base_uri": "https://localhost:8080/"
        },
        "id": "HCcowEtO5ybr",
        "outputId": "e79f5da5-bfff-46fb-e0e6-e3903041a88f"
      },
      "execution_count": null,
      "outputs": [
        {
          "output_type": "stream",
          "name": "stdout",
          "text": [
            "[80, 70, 60, 50, 40, 30, 20]\n"
          ]
        }
      ]
    },
    {
      "cell_type": "code",
      "source": [
        "l = [10, 20, 30, 40, 50 ,60, 70, 80]\n",
        "print(l[-8:-1:-1])"
      ],
      "metadata": {
        "colab": {
          "base_uri": "https://localhost:8080/"
        },
        "id": "kUSy_kw86nB3",
        "outputId": "dcd678e3-b6eb-4d22-901a-d4bda679eebd"
      },
      "execution_count": null,
      "outputs": [
        {
          "output_type": "stream",
          "name": "stdout",
          "text": [
            "[]\n"
          ]
        }
      ]
    },
    {
      "cell_type": "code",
      "source": [
        "l = [10, 20, 30, 40, 50 ,60, 70, 80]\n",
        "print(l[-8:-1:1])"
      ],
      "metadata": {
        "colab": {
          "base_uri": "https://localhost:8080/"
        },
        "id": "7oXrdDeQ6r-D",
        "outputId": "605313f5-128b-49e3-a026-4189c15145af"
      },
      "execution_count": null,
      "outputs": [
        {
          "output_type": "stream",
          "name": "stdout",
          "text": [
            "[10, 20, 30, 40, 50, 60, 70]\n"
          ]
        }
      ]
    },
    {
      "cell_type": "code",
      "source": [
        "l = [10, 20, 30, 40, 50 ,60, 70, 80]\n",
        "print(l[-10:-1:1])"
      ],
      "metadata": {
        "colab": {
          "base_uri": "https://localhost:8080/"
        },
        "id": "0HcJ53SC6w0v",
        "outputId": "65b65c7c-6acc-440b-a54a-fc965c83eafa"
      },
      "execution_count": null,
      "outputs": [
        {
          "output_type": "stream",
          "name": "stdout",
          "text": [
            "[10, 20, 30, 40, 50, 60, 70]\n"
          ]
        }
      ]
    },
    {
      "cell_type": "code",
      "source": [
        "l = [10, 20, 30, 40]\n",
        "l[1:2] = [88,99]\n",
        "print(l)"
      ],
      "metadata": {
        "colab": {
          "base_uri": "https://localhost:8080/"
        },
        "id": "t5oHNdZl68b9",
        "outputId": "8e3cd32b-f0b5-4b19-97a8-090b084eab71"
      },
      "execution_count": null,
      "outputs": [
        {
          "output_type": "stream",
          "name": "stdout",
          "text": [
            "[10, 88, 99, 30, 40]\n"
          ]
        }
      ]
    },
    {
      "cell_type": "code",
      "source": [
        "l = [10, 20, 30, 40]\n",
        "l[1:7] = [88]\n",
        "print(l)"
      ],
      "metadata": {
        "colab": {
          "base_uri": "https://localhost:8080/"
        },
        "id": "tMQHviLY72A5",
        "outputId": "f5acdf01-4f2e-4afd-f5cb-d91cb1cfed2c"
      },
      "execution_count": null,
      "outputs": [
        {
          "output_type": "stream",
          "name": "stdout",
          "text": [
            "[10, 88]\n"
          ]
        }
      ]
    },
    {
      "cell_type": "code",
      "source": [
        "l = [10, 20, 30, 40]\n",
        "l[3] = [88,99,100]\n",
        "print(l)"
      ],
      "metadata": {
        "colab": {
          "base_uri": "https://localhost:8080/"
        },
        "id": "JLmOqmZE77ik",
        "outputId": "2805c293-6b4f-41f6-9d86-cff1f312aa5c"
      },
      "execution_count": null,
      "outputs": [
        {
          "output_type": "stream",
          "name": "stdout",
          "text": [
            "[10, 20, 30, [88, 99, 100]]\n"
          ]
        }
      ]
    },
    {
      "cell_type": "code",
      "source": [
        "l = [10, 20, 30, 40]\n",
        "l[3:4] = [88,99,100]\n",
        "print(l)"
      ],
      "metadata": {
        "colab": {
          "base_uri": "https://localhost:8080/"
        },
        "id": "RbGx56iL8h9_",
        "outputId": "e831236b-5970-4c9c-f97f-1b5cf7962298"
      },
      "execution_count": null,
      "outputs": [
        {
          "output_type": "stream",
          "name": "stdout",
          "text": [
            "[10, 20, 30, 88, 99, 100]\n"
          ]
        }
      ]
    },
    {
      "cell_type": "code",
      "source": [
        "#append .. add only one element to the end of the list\n",
        "l = [10, 20, 30, 40, 50 ,60, 70, 80]\n",
        "l.append(90)\n",
        "print(l)"
      ],
      "metadata": {
        "colab": {
          "base_uri": "https://localhost:8080/"
        },
        "id": "5sB63ehJ8nZY",
        "outputId": "22130d00-fda3-4e97-aa80-af0411d39436"
      },
      "execution_count": null,
      "outputs": [
        {
          "output_type": "stream",
          "name": "stdout",
          "text": [
            "[10, 20, 30, 40, 50, 60, 70, 80, 90]\n"
          ]
        }
      ]
    },
    {
      "cell_type": "code",
      "source": [
        "#insert .. inserting values in the location\n",
        "l = [10, 20, 30, 40, 50 ,60, 70, 80, 90]\n",
        "l.insert(1,15)\n",
        "print(l)"
      ],
      "metadata": {
        "colab": {
          "base_uri": "https://localhost:8080/"
        },
        "id": "2_fwXuXA9Gzt",
        "outputId": "0efe10cd-d1f2-4cff-a7ea-a2648b66c539"
      },
      "execution_count": null,
      "outputs": [
        {
          "output_type": "stream",
          "name": "stdout",
          "text": [
            "[10, 15, 20, 30, 40, 50, 60, 70, 80, 90]\n"
          ]
        }
      ]
    },
    {
      "cell_type": "code",
      "source": [
        "# extend\n",
        "\n",
        "l1 = [10,20,30]\n",
        "l2 = [40,50,60]\n",
        "l3 = [80, 90]\n",
        "\n",
        "l1.extend(l2)\n",
        "print(l1)\n",
        "print(l2)\n",
        "print(l3)\n",
        "\n",
        "l1.extend(l3)\n",
        "print(l1)\n"
      ],
      "metadata": {
        "colab": {
          "base_uri": "https://localhost:8080/"
        },
        "id": "nQ0LCND09bXV",
        "outputId": "73b616b1-f59f-4c96-bab6-ca3118d695ae"
      },
      "execution_count": null,
      "outputs": [
        {
          "output_type": "stream",
          "name": "stdout",
          "text": [
            "[10, 20, 30, 40, 50, 60]\n",
            "[40, 50, 60]\n",
            "[80, 90]\n",
            "[10, 20, 30, 40, 50, 60, 80, 90]\n"
          ]
        }
      ]
    },
    {
      "cell_type": "code",
      "source": [
        "# remove the matching value from the list\n",
        "\n",
        "l1 = [10,20,30]\n",
        "l1.remove(20)\n",
        "print(l1)"
      ],
      "metadata": {
        "colab": {
          "base_uri": "https://localhost:8080/"
        },
        "id": "aDHpLTA5-kQO",
        "outputId": "d6608224-0698-4e22-a0c6-fc48481e314d"
      },
      "execution_count": null,
      "outputs": [
        {
          "output_type": "stream",
          "name": "stdout",
          "text": [
            "[10, 30]\n"
          ]
        }
      ]
    },
    {
      "cell_type": "code",
      "source": [
        "# pop function\n",
        "\n",
        "l1 = [10,20,30, 40]\n",
        "l1.pop()\n",
        "print(l1)"
      ],
      "metadata": {
        "colab": {
          "base_uri": "https://localhost:8080/"
        },
        "id": "9tzay0Wx_Hy2",
        "outputId": "f07b3867-cb60-4e8c-93e1-842ec6d38b66"
      },
      "execution_count": null,
      "outputs": [
        {
          "output_type": "stream",
          "name": "stdout",
          "text": [
            "[10, 20, 30]\n"
          ]
        }
      ]
    },
    {
      "cell_type": "code",
      "source": [
        "# pop function... index value will be deleted\n",
        "\n",
        "l1 = [10,20,30, 40]\n",
        "l1.pop(2)\n",
        "print(l1)"
      ],
      "metadata": {
        "colab": {
          "base_uri": "https://localhost:8080/"
        },
        "id": "ToxONhAx_Snw",
        "outputId": "8a6f0e52-85b7-473c-82e9-61b1a2815f74"
      },
      "execution_count": null,
      "outputs": [
        {
          "output_type": "stream",
          "name": "stdout",
          "text": [
            "[10, 20, 40]\n"
          ]
        }
      ]
    },
    {
      "cell_type": "code",
      "source": [
        "# del function\n",
        "\n",
        "l1 = [10,20,30, 40]\n",
        "print(l1)\n",
        "\n",
        "del l1\n",
        "\n",
        "print(l1)"
      ],
      "metadata": {
        "colab": {
          "base_uri": "https://localhost:8080/",
          "height": 193
        },
        "id": "oLLW8Ipb_nXt",
        "outputId": "c57ce367-0940-4ff8-d35e-71ccc5cfb3f7"
      },
      "execution_count": null,
      "outputs": [
        {
          "output_type": "stream",
          "name": "stdout",
          "text": [
            "[10, 20, 30, 40]\n"
          ]
        },
        {
          "output_type": "error",
          "ename": "NameError",
          "evalue": "name 'l1' is not defined",
          "traceback": [
            "\u001b[0;31m---------------------------------------------------------------------------\u001b[0m",
            "\u001b[0;31mNameError\u001b[0m                                 Traceback (most recent call last)",
            "\u001b[0;32m<ipython-input-55-3b2b6d4c4706>\u001b[0m in \u001b[0;36m<cell line: 8>\u001b[0;34m()\u001b[0m\n\u001b[1;32m      6\u001b[0m \u001b[0;32mdel\u001b[0m \u001b[0ml1\u001b[0m\u001b[0;34m\u001b[0m\u001b[0;34m\u001b[0m\u001b[0m\n\u001b[1;32m      7\u001b[0m \u001b[0;34m\u001b[0m\u001b[0m\n\u001b[0;32m----> 8\u001b[0;31m \u001b[0mprint\u001b[0m\u001b[0;34m(\u001b[0m\u001b[0ml1\u001b[0m\u001b[0;34m)\u001b[0m\u001b[0;34m\u001b[0m\u001b[0;34m\u001b[0m\u001b[0m\n\u001b[0m",
            "\u001b[0;31mNameError\u001b[0m: name 'l1' is not defined"
          ]
        }
      ]
    },
    {
      "cell_type": "code",
      "source": [
        "# del function\n",
        "\n",
        "l1 = [10,20,30, 40]\n",
        "print(l1)\n",
        "\n",
        "del l1[0:2]\n",
        "\n",
        "print(l1)"
      ],
      "metadata": {
        "colab": {
          "base_uri": "https://localhost:8080/"
        },
        "id": "GO2BeuYU_yd0",
        "outputId": "01b479f2-1cc0-49c5-aef7-ddd7527e8261"
      },
      "execution_count": null,
      "outputs": [
        {
          "output_type": "stream",
          "name": "stdout",
          "text": [
            "[10, 20, 30, 40]\n",
            "[30, 40]\n"
          ]
        }
      ]
    },
    {
      "cell_type": "code",
      "source": [
        "# clear function to clearing the values in the list without deleting list\n",
        "l1 = [10,20,30, 40]\n",
        "l1.clear()\n",
        "print(l1)"
      ],
      "metadata": {
        "colab": {
          "base_uri": "https://localhost:8080/"
        },
        "id": "LhfG7-8yAAJJ",
        "outputId": "f6c0f51b-71f4-40c3-876a-78caae776a43"
      },
      "execution_count": null,
      "outputs": [
        {
          "output_type": "stream",
          "name": "stdout",
          "text": [
            "[]\n"
          ]
        }
      ]
    },
    {
      "cell_type": "code",
      "source": [
        "# for loop\n",
        "\n",
        "l1 = [10, 20, 30, 40, 50, 60, 70, 80]\n",
        "\n",
        "for i in l1:\n",
        "  print(i)"
      ],
      "metadata": {
        "colab": {
          "base_uri": "https://localhost:8080/"
        },
        "id": "uNGu332rARI3",
        "outputId": "0fd2bee3-faad-4124-aaaf-84e7a6eff108"
      },
      "execution_count": null,
      "outputs": [
        {
          "output_type": "stream",
          "name": "stdout",
          "text": [
            "10\n",
            "20\n",
            "30\n",
            "40\n",
            "50\n",
            "60\n",
            "70\n",
            "80\n"
          ]
        }
      ]
    },
    {
      "cell_type": "code",
      "source": [
        "# for loop\n",
        "\n",
        "l1 = [10, 20, 30, 40, 50, 60, 70, 80]\n",
        "\n",
        "for i in l1[0:4]:\n",
        "  print(i)"
      ],
      "metadata": {
        "colab": {
          "base_uri": "https://localhost:8080/"
        },
        "id": "WrYCFZmNAmIG",
        "outputId": "8e93f1f3-795a-4b66-eac9-f2bd7951a6a9"
      },
      "execution_count": null,
      "outputs": [
        {
          "output_type": "stream",
          "name": "stdout",
          "text": [
            "10\n",
            "20\n",
            "30\n",
            "40\n"
          ]
        }
      ]
    },
    {
      "cell_type": "code",
      "source": [
        "# for loop\n",
        "\n",
        "l1 = [10, 20, 30, 40, 50, 60, 70, 80]\n",
        "\n",
        "for i in l1[3:4]:\n",
        "  print(i)"
      ],
      "metadata": {
        "colab": {
          "base_uri": "https://localhost:8080/"
        },
        "id": "6MoG7zXjA7MR",
        "outputId": "aa19eaa9-81ac-4359-ab9b-5668b116c1e6"
      },
      "execution_count": null,
      "outputs": [
        {
          "output_type": "stream",
          "name": "stdout",
          "text": [
            "40\n"
          ]
        }
      ]
    },
    {
      "cell_type": "code",
      "source": [
        "# for loop\n",
        "\n",
        "l1 = [10, 20, 30, 40, 50, 60, 70, 80]\n",
        "\n",
        "for i in l1:\n",
        "  print(i)\n",
        "  print(i+5)\n",
        "\n",
        "print(l)"
      ],
      "metadata": {
        "colab": {
          "base_uri": "https://localhost:8080/"
        },
        "id": "p-4j-Vj8BAWh",
        "outputId": "a97af7f6-479c-474a-8b28-eaa522f925f9"
      },
      "execution_count": null,
      "outputs": [
        {
          "output_type": "stream",
          "name": "stdout",
          "text": [
            "10\n",
            "15\n",
            "20\n",
            "25\n",
            "30\n",
            "35\n",
            "40\n",
            "45\n",
            "50\n",
            "55\n",
            "60\n",
            "65\n",
            "70\n",
            "75\n",
            "80\n",
            "85\n",
            "[10, 15, 20, 30, 40, 50, 60, 70, 80, 90]\n"
          ]
        }
      ]
    },
    {
      "cell_type": "code",
      "source": [],
      "metadata": {
        "id": "a2EvqhNfCUjn"
      },
      "execution_count": null,
      "outputs": []
    },
    {
      "cell_type": "code",
      "source": [
        "print(\"day 3\")"
      ],
      "metadata": {
        "id": "htopshYa4s0v",
        "outputId": "c2dc236c-e039-430d-f462-711421870dd0",
        "colab": {
          "base_uri": "https://localhost:8080/"
        }
      },
      "execution_count": 1,
      "outputs": [
        {
          "output_type": "stream",
          "name": "stdout",
          "text": [
            "day 3\n"
          ]
        }
      ]
    },
    {
      "cell_type": "code",
      "source": [
        "t1 = (1,2,3,40,\"NTT\", 1.1)\n",
        "print(t1)"
      ],
      "metadata": {
        "id": "MtrcDq-t-xhZ",
        "outputId": "646fdcfc-8c44-4e20-db29-1ab31bb924fa",
        "colab": {
          "base_uri": "https://localhost:8080/"
        }
      },
      "execution_count": 3,
      "outputs": [
        {
          "output_type": "stream",
          "name": "stdout",
          "text": [
            "(1, 2, 3, 40, 'NTT', 1.1)\n"
          ]
        }
      ]
    },
    {
      "cell_type": "code",
      "source": [
        "print(type(t1))"
      ],
      "metadata": {
        "id": "D0ZGnhl--_Ml",
        "outputId": "d3d8e1ca-dedf-467d-80a4-d2ed9db0d927",
        "colab": {
          "base_uri": "https://localhost:8080/"
        }
      },
      "execution_count": 5,
      "outputs": [
        {
          "output_type": "stream",
          "name": "stdout",
          "text": [
            "<class 'tuple'>\n"
          ]
        }
      ]
    },
    {
      "cell_type": "code",
      "source": [
        "#constructor tuple to create a tuple\n",
        "t2 = tuple((3,40,\"NTT\", 1.1))\n",
        "print(t2)"
      ],
      "metadata": {
        "id": "nPTMsudD_Vmh",
        "outputId": "be9ab3dc-afce-44f8-fc1e-99d6620391fe",
        "colab": {
          "base_uri": "https://localhost:8080/"
        }
      },
      "execution_count": 6,
      "outputs": [
        {
          "output_type": "stream",
          "name": "stdout",
          "text": [
            "(3, 40, 'NTT', 1.1)\n"
          ]
        }
      ]
    },
    {
      "cell_type": "code",
      "source": [
        "t3 = tuple([3,40,\"NTT\", 1.1]) #list is converted to tuple\n",
        "print(t3)\n",
        "print(type(t3))"
      ],
      "metadata": {
        "id": "d2Pcv2s__2s8",
        "outputId": "f1dd9f79-3420-41ab-962d-15b4cd2df268",
        "colab": {
          "base_uri": "https://localhost:8080/"
        }
      },
      "execution_count": 9,
      "outputs": [
        {
          "output_type": "stream",
          "name": "stdout",
          "text": [
            "(3, 40, 'NTT', 1.1)\n",
            "<class 'tuple'>\n"
          ]
        }
      ]
    },
    {
      "cell_type": "code",
      "source": [
        "t4 = tuple((15))\n",
        "print(t4)\n",
        "print(type(t4))"
      ],
      "metadata": {
        "id": "ZUZaMizIALc9",
        "outputId": "9bb9bf56-1efb-40df-9fb4-4ca93e4ee171",
        "colab": {
          "base_uri": "https://localhost:8080/",
          "height": 176
        }
      },
      "execution_count": 11,
      "outputs": [
        {
          "output_type": "error",
          "ename": "TypeError",
          "evalue": "'int' object is not iterable",
          "traceback": [
            "\u001b[0;31m---------------------------------------------------------------------------\u001b[0m",
            "\u001b[0;31mTypeError\u001b[0m                                 Traceback (most recent call last)",
            "\u001b[0;32m<ipython-input-11-060b668af7ad>\u001b[0m in \u001b[0;36m<cell line: 1>\u001b[0;34m()\u001b[0m\n\u001b[0;32m----> 1\u001b[0;31m \u001b[0mt4\u001b[0m \u001b[0;34m=\u001b[0m \u001b[0mtuple\u001b[0m\u001b[0;34m(\u001b[0m\u001b[0;34m(\u001b[0m\u001b[0;36m15\u001b[0m\u001b[0;34m)\u001b[0m\u001b[0;34m)\u001b[0m\u001b[0;34m\u001b[0m\u001b[0;34m\u001b[0m\u001b[0m\n\u001b[0m\u001b[1;32m      2\u001b[0m \u001b[0mprint\u001b[0m\u001b[0;34m(\u001b[0m\u001b[0mt4\u001b[0m\u001b[0;34m)\u001b[0m\u001b[0;34m\u001b[0m\u001b[0;34m\u001b[0m\u001b[0m\n\u001b[1;32m      3\u001b[0m \u001b[0mprint\u001b[0m\u001b[0;34m(\u001b[0m\u001b[0mtype\u001b[0m\u001b[0;34m(\u001b[0m\u001b[0mt4\u001b[0m\u001b[0;34m)\u001b[0m\u001b[0;34m)\u001b[0m\u001b[0;34m\u001b[0m\u001b[0;34m\u001b[0m\u001b[0m\n",
            "\u001b[0;31mTypeError\u001b[0m: 'int' object is not iterable"
          ]
        }
      ]
    },
    {
      "cell_type": "code",
      "source": [
        "t4 = tuple((15,))\n",
        "print(t4)\n",
        "print(type(t4))"
      ],
      "metadata": {
        "id": "wt6rQXBbBvvR",
        "outputId": "511af08e-821a-4a73-ffaf-7781a0e72003",
        "colab": {
          "base_uri": "https://localhost:8080/"
        }
      },
      "execution_count": 12,
      "outputs": [
        {
          "output_type": "stream",
          "name": "stdout",
          "text": [
            "(15,)\n",
            "<class 'tuple'>\n"
          ]
        }
      ]
    },
    {
      "cell_type": "code",
      "source": [
        "t4 = tuple((\"NTT\"))\n",
        "print(t4)\n",
        "print(type(t4))"
      ],
      "metadata": {
        "id": "aqoBeRWIB0em",
        "outputId": "11f6ca3a-412e-4b7a-c4e6-95403f90618d",
        "colab": {
          "base_uri": "https://localhost:8080/"
        }
      },
      "execution_count": 13,
      "outputs": [
        {
          "output_type": "stream",
          "name": "stdout",
          "text": [
            "('N', 'T', 'T')\n",
            "<class 'tuple'>\n"
          ]
        }
      ]
    },
    {
      "cell_type": "code",
      "source": [
        "t4 = tuple(('NTT')) #iterable element\n",
        "print(t4)\n",
        "print(type(t4))"
      ],
      "metadata": {
        "id": "Q0XS17TZB9F6",
        "outputId": "15283b29-a45b-4753-e4ae-d566570d9fd9",
        "colab": {
          "base_uri": "https://localhost:8080/"
        }
      },
      "execution_count": 14,
      "outputs": [
        {
          "output_type": "stream",
          "name": "stdout",
          "text": [
            "('N', 'T', 'T')\n",
            "<class 'tuple'>\n"
          ]
        }
      ]
    },
    {
      "cell_type": "code",
      "source": [
        "t4 = tuple(('NTT', 'DATA'))\n",
        "print(t4)\n",
        "print(type(t4))"
      ],
      "metadata": {
        "id": "7l9Y89hYCDEe",
        "outputId": "7f8da724-8714-45b6-e810-ffd5e528d3dc",
        "colab": {
          "base_uri": "https://localhost:8080/"
        }
      },
      "execution_count": 15,
      "outputs": [
        {
          "output_type": "stream",
          "name": "stdout",
          "text": [
            "('NTT', 'DATA')\n",
            "<class 'tuple'>\n"
          ]
        }
      ]
    },
    {
      "cell_type": "code",
      "source": [
        "t4 = tuple(('NTT',))\n",
        "print(t4)\n",
        "print(type(t4))"
      ],
      "metadata": {
        "id": "95-48EEVCYjf",
        "outputId": "59af17d5-aae0-4095-9397-8335fa51614c",
        "colab": {
          "base_uri": "https://localhost:8080/"
        }
      },
      "execution_count": 16,
      "outputs": [
        {
          "output_type": "stream",
          "name": "stdout",
          "text": [
            "('NTT',)\n",
            "<class 'tuple'>\n"
          ]
        }
      ]
    },
    {
      "cell_type": "code",
      "source": [
        "for i in \"NTT\":\n",
        "  print(i)"
      ],
      "metadata": {
        "id": "JjFBkTPlCsC-",
        "outputId": "644f6e6d-1d12-4526-9e20-2bb052376a38",
        "colab": {
          "base_uri": "https://localhost:8080/"
        }
      },
      "execution_count": 17,
      "outputs": [
        {
          "output_type": "stream",
          "name": "stdout",
          "text": [
            "N\n",
            "T\n",
            "T\n"
          ]
        }
      ]
    },
    {
      "cell_type": "code",
      "source": [
        "t6 = tuple((15, 16))\n",
        "print(t6)"
      ],
      "metadata": {
        "id": "CGc980kJEKLp",
        "outputId": "2d578c44-e9fe-456d-fb63-77a823f723c2",
        "colab": {
          "base_uri": "https://localhost:8080/"
        }
      },
      "execution_count": 19,
      "outputs": [
        {
          "output_type": "stream",
          "name": "stdout",
          "text": [
            "(15, 16)\n"
          ]
        }
      ]
    },
    {
      "cell_type": "code",
      "source": [
        "a = (15)\n",
        "print(a)\n",
        "print(type(a))\n"
      ],
      "metadata": {
        "id": "aZHq0tYwElvR",
        "outputId": "3c1a7228-3202-4ea6-fa3e-2f0cb1a74b57",
        "colab": {
          "base_uri": "https://localhost:8080/"
        }
      },
      "execution_count": 20,
      "outputs": [
        {
          "output_type": "stream",
          "name": "stdout",
          "text": [
            "15\n",
            "<class 'int'>\n"
          ]
        }
      ]
    },
    {
      "cell_type": "code",
      "source": [
        "a = (15,)\n",
        "print(a)\n",
        "print(type(a))"
      ],
      "metadata": {
        "id": "C8iu2dOJFJDi",
        "outputId": "764c8299-85c9-4584-a6f8-2a1163664d53",
        "colab": {
          "base_uri": "https://localhost:8080/"
        }
      },
      "execution_count": 21,
      "outputs": [
        {
          "output_type": "stream",
          "name": "stdout",
          "text": [
            "(15,)\n",
            "<class 'tuple'>\n"
          ]
        }
      ]
    },
    {
      "cell_type": "code",
      "source": [
        "a = (15,15)\n",
        "print(a)\n",
        "print(type(a))"
      ],
      "metadata": {
        "id": "NjdpYk_HFNNn",
        "outputId": "9da8f103-1f88-42a3-f32a-5e7cb2c8a548",
        "colab": {
          "base_uri": "https://localhost:8080/"
        }
      },
      "execution_count": 22,
      "outputs": [
        {
          "output_type": "stream",
          "name": "stdout",
          "text": [
            "(15, 15)\n",
            "<class 'tuple'>\n"
          ]
        }
      ]
    },
    {
      "cell_type": "code",
      "source": [
        "#Accessing Tuple\n",
        "t7 = (22,33,44,55,66,77)\n",
        "print(t7[1])\n",
        "print(t7[-1])\n",
        "print(t7[2:10])"
      ],
      "metadata": {
        "id": "wyqf4X20FXC2",
        "outputId": "a3295db8-83ce-46ef-eb9c-25875a7e8f01",
        "colab": {
          "base_uri": "https://localhost:8080/"
        }
      },
      "execution_count": 25,
      "outputs": [
        {
          "output_type": "stream",
          "name": "stdout",
          "text": [
            "33\n",
            "77\n",
            "(44, 55, 66, 77)\n"
          ]
        }
      ]
    },
    {
      "cell_type": "code",
      "source": [
        "print(t7[10])"
      ],
      "metadata": {
        "id": "x8-UgUy3GC3Z",
        "outputId": "a6ce6a70-e9bc-4ebb-d06f-e2a1e8a7b8b7",
        "colab": {
          "base_uri": "https://localhost:8080/",
          "height": 141
        }
      },
      "execution_count": 26,
      "outputs": [
        {
          "output_type": "error",
          "ename": "IndexError",
          "evalue": "tuple index out of range",
          "traceback": [
            "\u001b[0;31m---------------------------------------------------------------------------\u001b[0m",
            "\u001b[0;31mIndexError\u001b[0m                                Traceback (most recent call last)",
            "\u001b[0;32m<ipython-input-26-921b6ebc0d15>\u001b[0m in \u001b[0;36m<cell line: 1>\u001b[0;34m()\u001b[0m\n\u001b[0;32m----> 1\u001b[0;31m \u001b[0mprint\u001b[0m\u001b[0;34m(\u001b[0m\u001b[0mt7\u001b[0m\u001b[0;34m[\u001b[0m\u001b[0;36m10\u001b[0m\u001b[0;34m]\u001b[0m\u001b[0;34m)\u001b[0m\u001b[0;34m\u001b[0m\u001b[0;34m\u001b[0m\u001b[0m\n\u001b[0m",
            "\u001b[0;31mIndexError\u001b[0m: tuple index out of range"
          ]
        }
      ]
    },
    {
      "cell_type": "code",
      "source": [
        "print(t7[-4:-1])"
      ],
      "metadata": {
        "id": "3PURSpG5GHNW",
        "outputId": "a860a5b3-9b85-46ed-c13c-be92fbc6e5c6",
        "colab": {
          "base_uri": "https://localhost:8080/"
        }
      },
      "execution_count": 27,
      "outputs": [
        {
          "output_type": "stream",
          "name": "stdout",
          "text": [
            "(44, 55, 66)\n"
          ]
        }
      ]
    },
    {
      "cell_type": "code",
      "source": [
        "#Accessing Tuple\n",
        "t7 = (22,33,44,55,66,77)\n",
        "print(t7[1])\n",
        "print(t7[-1])\n",
        "print(t7[2:10])\n",
        "print(t7[-4:-1:1])"
      ],
      "metadata": {
        "id": "_ViiUC8BGU5n",
        "outputId": "38dc9fe8-af98-4e71-8b27-c6b038b5343c",
        "colab": {
          "base_uri": "https://localhost:8080/"
        }
      },
      "execution_count": 28,
      "outputs": [
        {
          "output_type": "stream",
          "name": "stdout",
          "text": [
            "33\n",
            "77\n",
            "(44, 55, 66, 77)\n",
            "(44, 55, 66)\n"
          ]
        }
      ]
    },
    {
      "cell_type": "code",
      "source": [
        "if 77 in t7:\n",
        "  print(\"Yes\")\n",
        "else:\n",
        "  print(\"No\")"
      ],
      "metadata": {
        "id": "60ELnXBXGb-f",
        "outputId": "f0163f9d-3ba6-4740-a47f-88cc7ad1b77c",
        "colab": {
          "base_uri": "https://localhost:8080/"
        }
      },
      "execution_count": 29,
      "outputs": [
        {
          "output_type": "stream",
          "name": "stdout",
          "text": [
            "Yes\n"
          ]
        }
      ]
    },
    {
      "cell_type": "code",
      "source": [
        "if \"77\" in t7:\n",
        "  print(\"Yes\")\n",
        "else:\n",
        "  print(\"No\")"
      ],
      "metadata": {
        "id": "WIesbeeDGn7N",
        "outputId": "48b1e0db-7141-4413-e9ef-1fc375af235b",
        "colab": {
          "base_uri": "https://localhost:8080/"
        }
      },
      "execution_count": 30,
      "outputs": [
        {
          "output_type": "stream",
          "name": "stdout",
          "text": [
            "No\n"
          ]
        }
      ]
    },
    {
      "cell_type": "code",
      "source": [
        "#Update\n",
        "t7[0] = 100"
      ],
      "metadata": {
        "id": "hyp8FWC2GsFF",
        "outputId": "ba54769b-55c1-4ed3-ee8d-d17f3e6d6981",
        "colab": {
          "base_uri": "https://localhost:8080/",
          "height": 159
        }
      },
      "execution_count": 31,
      "outputs": [
        {
          "output_type": "error",
          "ename": "TypeError",
          "evalue": "'tuple' object does not support item assignment",
          "traceback": [
            "\u001b[0;31m---------------------------------------------------------------------------\u001b[0m",
            "\u001b[0;31mTypeError\u001b[0m                                 Traceback (most recent call last)",
            "\u001b[0;32m<ipython-input-31-40bf0f752cf1>\u001b[0m in \u001b[0;36m<cell line: 2>\u001b[0;34m()\u001b[0m\n\u001b[1;32m      1\u001b[0m \u001b[0;31m#Update\u001b[0m\u001b[0;34m\u001b[0m\u001b[0;34m\u001b[0m\u001b[0m\n\u001b[0;32m----> 2\u001b[0;31m \u001b[0mt7\u001b[0m\u001b[0;34m[\u001b[0m\u001b[0;36m0\u001b[0m\u001b[0;34m]\u001b[0m \u001b[0;34m=\u001b[0m \u001b[0;36m100\u001b[0m\u001b[0;34m\u001b[0m\u001b[0;34m\u001b[0m\u001b[0m\n\u001b[0m",
            "\u001b[0;31mTypeError\u001b[0m: 'tuple' object does not support item assignment"
          ]
        }
      ]
    },
    {
      "cell_type": "code",
      "source": [
        "# Append and insert method is not possible in Tuple"
      ],
      "metadata": {
        "id": "OjwsudpCG1pB"
      },
      "execution_count": 32,
      "outputs": []
    },
    {
      "cell_type": "code",
      "source": [
        "t7 = (22,33,44,55,66,77)\n",
        "t8 = list(t7)\n",
        "print(t8)\n",
        "print(type(t8))\n",
        "t8[0] = 100\n",
        "t7 = tuple(t8)\n",
        "print(t7)"
      ],
      "metadata": {
        "id": "puUUvYl7HBL6",
        "outputId": "a594ebd9-dabf-4332-982b-fb795833f285",
        "colab": {
          "base_uri": "https://localhost:8080/"
        }
      },
      "execution_count": 35,
      "outputs": [
        {
          "output_type": "stream",
          "name": "stdout",
          "text": [
            "[22, 33, 44, 55, 66, 77]\n",
            "<class 'list'>\n",
            "(100, 33, 44, 55, 66, 77)\n"
          ]
        }
      ]
    },
    {
      "cell_type": "code",
      "source": [
        "del t7[0]"
      ],
      "metadata": {
        "id": "IFXC583JH-7U",
        "outputId": "d9d4f346-86bb-4975-c3af-c574ccc6e7d9",
        "colab": {
          "base_uri": "https://localhost:8080/",
          "height": 141
        }
      },
      "execution_count": 36,
      "outputs": [
        {
          "output_type": "error",
          "ename": "TypeError",
          "evalue": "'tuple' object doesn't support item deletion",
          "traceback": [
            "\u001b[0;31m---------------------------------------------------------------------------\u001b[0m",
            "\u001b[0;31mTypeError\u001b[0m                                 Traceback (most recent call last)",
            "\u001b[0;32m<ipython-input-36-68e4e5bdee94>\u001b[0m in \u001b[0;36m<cell line: 1>\u001b[0;34m()\u001b[0m\n\u001b[0;32m----> 1\u001b[0;31m \u001b[0;32mdel\u001b[0m \u001b[0mt7\u001b[0m\u001b[0;34m[\u001b[0m\u001b[0;36m0\u001b[0m\u001b[0;34m]\u001b[0m\u001b[0;34m\u001b[0m\u001b[0;34m\u001b[0m\u001b[0m\n\u001b[0m",
            "\u001b[0;31mTypeError\u001b[0m: 'tuple' object doesn't support item deletion"
          ]
        }
      ]
    },
    {
      "cell_type": "code",
      "source": [
        "del t6"
      ],
      "metadata": {
        "id": "NRePhPkYIEpb"
      },
      "execution_count": 39,
      "outputs": []
    },
    {
      "cell_type": "code",
      "source": [
        "#Iterate\n",
        "\n",
        "t7 = (22,33,44,55,66,77)\n",
        "\n",
        "for i in t7:\n",
        "  print(i)"
      ],
      "metadata": {
        "id": "6MVLzH2PIKy6",
        "outputId": "52c65cd4-fa94-433e-8bb4-14f7c250410d",
        "colab": {
          "base_uri": "https://localhost:8080/"
        }
      },
      "execution_count": 40,
      "outputs": [
        {
          "output_type": "stream",
          "name": "stdout",
          "text": [
            "22\n",
            "33\n",
            "44\n",
            "55\n",
            "66\n",
            "77\n"
          ]
        }
      ]
    },
    {
      "cell_type": "code",
      "source": [
        "s = [[\"akash\", 25, \"BE\"], [\"John\", 22, \"BSC\"], [\"Smith\", 21, \"MBBS\"]] #Nested list\n",
        "print(s)\n",
        "print(type(s))\n",
        "print(s[1])"
      ],
      "metadata": {
        "id": "dkdJj7n-IVjn",
        "outputId": "30e38717-86ff-4a9d-c0a2-91df1710f0b6",
        "colab": {
          "base_uri": "https://localhost:8080/"
        }
      },
      "execution_count": 42,
      "outputs": [
        {
          "output_type": "stream",
          "name": "stdout",
          "text": [
            "[['akash', 25, 'BE'], ['John', 22, 'BSC'], ['Smith', 21, 'MBBS']]\n",
            "<class 'list'>\n",
            "['John', 22, 'BSC']\n"
          ]
        }
      ]
    },
    {
      "cell_type": "code",
      "source": [
        "from os import name\n",
        "#Dictionary\n",
        "\n",
        "d = {'name':\"akash\",'age': 25, 'course':\"BE\"}\n",
        "print(d)\n",
        "print(type(d))\n",
        "print(d['name'])"
      ],
      "metadata": {
        "id": "bFm4xSOvLLmO",
        "outputId": "637ee85a-4efc-4696-f9db-1098c06196b3",
        "colab": {
          "base_uri": "https://localhost:8080/"
        }
      },
      "execution_count": 45,
      "outputs": [
        {
          "output_type": "stream",
          "name": "stdout",
          "text": [
            "{'name': 'akash', 'age': 25, 'course': 'BE'}\n",
            "<class 'dict'>\n",
            "akash\n"
          ]
        }
      ]
    },
    {
      "cell_type": "code",
      "source": [
        "d2 = {10:11111, 20:22222}\n",
        "print(d2[10])"
      ],
      "metadata": {
        "id": "KudiJQWpMFqg",
        "outputId": "d337a4eb-6121-48fc-ef7a-bfab8f86386e",
        "colab": {
          "base_uri": "https://localhost:8080/"
        }
      },
      "execution_count": 46,
      "outputs": [
        {
          "output_type": "stream",
          "name": "stdout",
          "text": [
            "11111\n"
          ]
        }
      ]
    },
    {
      "cell_type": "code",
      "source": [
        "d3 = {\"usn1\":[\"akash\", 25, \"BE\"], \"usn2\": [\"John\", 22, \"BSC\"],\"usn3\": [\"Smith\", 21, \"MBBS\"]}\n",
        "print(d3[\"usn1\"])\n",
        "print(len(d3))"
      ],
      "metadata": {
        "id": "ayx2dfphMfTt",
        "outputId": "9d7fffa7-1936-40df-af57-58fd64ba75da",
        "colab": {
          "base_uri": "https://localhost:8080/"
        }
      },
      "execution_count": 48,
      "outputs": [
        {
          "output_type": "stream",
          "name": "stdout",
          "text": [
            "['akash', 25, 'BE']\n",
            "3\n"
          ]
        }
      ]
    },
    {
      "cell_type": "code",
      "source": [
        "x = d3.keys() # fetch keys of the dictionary\n",
        "print(x)"
      ],
      "metadata": {
        "id": "WyDBoWIeMzc1",
        "outputId": "df510dce-83dc-4910-9b23-35a52ccc044d",
        "colab": {
          "base_uri": "https://localhost:8080/"
        }
      },
      "execution_count": 50,
      "outputs": [
        {
          "output_type": "stream",
          "name": "stdout",
          "text": [
            "dict_keys(['usn1', 'usn2', 'usn3'])\n"
          ]
        }
      ]
    },
    {
      "cell_type": "code",
      "source": [
        "y = d3.values() #fetch values in the dictionary\n",
        "print(y)"
      ],
      "metadata": {
        "id": "NriZaORtNJRp",
        "outputId": "a18acf12-772a-47da-9f3c-d8df551baac1",
        "colab": {
          "base_uri": "https://localhost:8080/"
        }
      },
      "execution_count": 52,
      "outputs": [
        {
          "output_type": "stream",
          "name": "stdout",
          "text": [
            "dict_values([['akash', 25, 'BE'], ['John', 22, 'BSC'], ['Smith', 21, 'MBBS']])\n"
          ]
        }
      ]
    },
    {
      "cell_type": "code",
      "source": [
        "z = d3.items()\n",
        "print(z)"
      ],
      "metadata": {
        "id": "uLZQYx40NWfj",
        "outputId": "a96c1d80-a3f0-42cb-b99a-809d76c509bd",
        "colab": {
          "base_uri": "https://localhost:8080/"
        }
      },
      "execution_count": 53,
      "outputs": [
        {
          "output_type": "stream",
          "name": "stdout",
          "text": [
            "dict_items([('usn1', ['akash', 25, 'BE']), ('usn2', ['John', 22, 'BSC']), ('usn3', ['Smith', 21, 'MBBS'])])\n"
          ]
        }
      ]
    },
    {
      "cell_type": "code",
      "source": [
        "#How to modify\n",
        "\n",
        "d4 = {'name':\"akash\",'age': 25, 'course':\"BE\"}\n",
        "d4[\"name\"] = \"John\"\n",
        "print(d4)"
      ],
      "metadata": {
        "id": "NS8AVqMdNehS",
        "outputId": "cdb09a7f-1e39-484c-f41b-fa113500d2f5",
        "colab": {
          "base_uri": "https://localhost:8080/"
        }
      },
      "execution_count": 54,
      "outputs": [
        {
          "output_type": "stream",
          "name": "stdout",
          "text": [
            "{'name': 'John', 'age': 25, 'course': 'BE'}\n"
          ]
        }
      ]
    },
    {
      "cell_type": "code",
      "source": [
        "d4.update({\"name\":\"Clara\"})\n",
        "print(d4)"
      ],
      "metadata": {
        "id": "R6gaaZbON_FQ",
        "outputId": "992c0137-7757-4acf-88e9-de0de65620fe",
        "colab": {
          "base_uri": "https://localhost:8080/"
        }
      },
      "execution_count": 55,
      "outputs": [
        {
          "output_type": "stream",
          "name": "stdout",
          "text": [
            "{'name': 'Clara', 'age': 25, 'course': 'BE'}\n"
          ]
        }
      ]
    },
    {
      "cell_type": "code",
      "source": [
        "d4[\"Country\"] = \"Norway\"\n",
        "print(d4)"
      ],
      "metadata": {
        "id": "aC76EYIROHkg",
        "outputId": "d9f35bb9-19e2-4e0c-b12e-e8cf09baec4f",
        "colab": {
          "base_uri": "https://localhost:8080/"
        }
      },
      "execution_count": 56,
      "outputs": [
        {
          "output_type": "stream",
          "name": "stdout",
          "text": [
            "{'name': 'Clara', 'age': 25, 'course': 'BE', 'Country': 'Norway'}\n"
          ]
        }
      ]
    },
    {
      "cell_type": "code",
      "source": [
        "d4.popitem()\n",
        "print(d4)"
      ],
      "metadata": {
        "id": "FrRjTFPUOR8M",
        "outputId": "c7f859ab-db8c-4192-bb59-6d4b19aa7dfc",
        "colab": {
          "base_uri": "https://localhost:8080/"
        }
      },
      "execution_count": 57,
      "outputs": [
        {
          "output_type": "stream",
          "name": "stdout",
          "text": [
            "{'name': 'Clara', 'age': 25, 'course': 'BE'}\n"
          ]
        }
      ]
    },
    {
      "cell_type": "code",
      "source": [
        "d4.pop(\"age\")\n",
        "print(d4)"
      ],
      "metadata": {
        "id": "AIEx0S58OZPU",
        "outputId": "0cbc5794-0d24-4659-e0d6-bc2133d7b10a",
        "colab": {
          "base_uri": "https://localhost:8080/"
        }
      },
      "execution_count": 59,
      "outputs": [
        {
          "output_type": "stream",
          "name": "stdout",
          "text": [
            "{'name': 'Clara', 'course': 'BE'}\n"
          ]
        }
      ]
    },
    {
      "cell_type": "code",
      "source": [
        "del d4['course']\n",
        "print(d4)"
      ],
      "metadata": {
        "id": "vpW5VX1ROh09",
        "outputId": "cb778908-a311-4674-d776-4a7e937e7b6d",
        "colab": {
          "base_uri": "https://localhost:8080/"
        }
      },
      "execution_count": 60,
      "outputs": [
        {
          "output_type": "stream",
          "name": "stdout",
          "text": [
            "{'name': 'Clara'}\n"
          ]
        }
      ]
    },
    {
      "cell_type": "code",
      "source": [
        "del d4"
      ],
      "metadata": {
        "id": "KiO-RwF9OtsI"
      },
      "execution_count": 61,
      "outputs": []
    },
    {
      "cell_type": "code",
      "source": [
        "d5 = {'name':\"akash\",'age': 25, 'course':\"BE\"} # Iterate\n",
        "\n",
        "for i in d5:\n",
        "  print(d5[i])"
      ],
      "metadata": {
        "id": "jnEkJhxUOwMK",
        "outputId": "08421e63-24fa-4c3c-9256-534d42e007ac",
        "colab": {
          "base_uri": "https://localhost:8080/"
        }
      },
      "execution_count": 63,
      "outputs": [
        {
          "output_type": "stream",
          "name": "stdout",
          "text": [
            "akash\n",
            "25\n",
            "BE\n"
          ]
        }
      ]
    },
    {
      "cell_type": "code",
      "source": [
        "#Numpy package --> optional package\n",
        "import numpy as np\n",
        "\n",
        "arr = np.array([1,2,3,4,5])    #method array which is described in Numpy\n",
        "print(arr)\n",
        "print(type(arr))\n",
        "print(arr.ndim)\n",
        "print(arr.size)\n",
        "print(arr.shape)   #shape of the array will be tuple\n",
        "print(arr.dtype)"
      ],
      "metadata": {
        "id": "SgPUmbRnPCC_",
        "outputId": "75efa4d7-5f89-4cb2-dbe6-c571b8fea734",
        "colab": {
          "base_uri": "https://localhost:8080/"
        }
      },
      "execution_count": 68,
      "outputs": [
        {
          "output_type": "stream",
          "name": "stdout",
          "text": [
            "[1 2 3 4 5]\n",
            "<class 'numpy.ndarray'>\n",
            "1\n",
            "5\n",
            "(5,)\n",
            "int64\n"
          ]
        }
      ]
    },
    {
      "cell_type": "code",
      "source": [
        "arr2 = np.array([1,2,3,4,5,4.5])    #method array which is described in Numpy\n",
        "print(arr2)\n",
        "print(arr2.dtype)"
      ],
      "metadata": {
        "id": "B9nWAVCxRxGu",
        "outputId": "94e16fc0-57c5-4a28-da19-1aad650c1621",
        "colab": {
          "base_uri": "https://localhost:8080/"
        }
      },
      "execution_count": 72,
      "outputs": [
        {
          "output_type": "stream",
          "name": "stdout",
          "text": [
            "[1.  2.  3.  4.  5.  4.5]\n",
            "float64\n"
          ]
        }
      ]
    },
    {
      "cell_type": "code",
      "source": [
        "arr3 = np.array([1,2,3,4,5,\"NTT\"])    #method array which is described in Numpy\n",
        "print(arr3)\n",
        "print(arr3.dtype)"
      ],
      "metadata": {
        "id": "y1KYfxrfSeWB",
        "outputId": "0cc87903-6d7e-4865-90d8-528dc3c5fcee",
        "colab": {
          "base_uri": "https://localhost:8080/"
        }
      },
      "execution_count": 74,
      "outputs": [
        {
          "output_type": "stream",
          "name": "stdout",
          "text": [
            "['1' '2' '3' '4' '5' 'NTT']\n",
            "<U21\n"
          ]
        }
      ]
    },
    {
      "cell_type": "code",
      "source": [
        "arr2 = np.array([[1,2,3,],[4,5,6]])\n",
        "print(arr2)\n",
        "print(type(arr2))\n",
        "print(arr2.ndim)\n",
        "print(arr2.size)\n",
        "print(arr2.shape)\n",
        "print(arr2.dtype)"
      ],
      "metadata": {
        "id": "uKG31KP8S04f",
        "outputId": "cc23aff4-b384-4889-b69d-31b4a8d6ca7d",
        "colab": {
          "base_uri": "https://localhost:8080/"
        }
      },
      "execution_count": 80,
      "outputs": [
        {
          "output_type": "stream",
          "name": "stdout",
          "text": [
            "[[1 2 3]\n",
            " [4 5 6]]\n",
            "<class 'numpy.ndarray'>\n",
            "2\n",
            "6\n",
            "(2, 3)\n",
            "int64\n"
          ]
        }
      ]
    },
    {
      "cell_type": "code",
      "source": [
        "arr2 = np.array([[[1,2,3,],[4,5,6]] , [[11,22,30,],[41,5,56]]])\n",
        "print(arr2)\n",
        "print(type(arr2))\n",
        "print(arr2.ndim)\n",
        "print(arr2.size)\n",
        "print(arr2.shape)\n",
        "print(arr2.dtype)"
      ],
      "metadata": {
        "id": "w_as8wMtUKcB",
        "outputId": "a1c2477d-3875-4916-d7de-c054eb17caf4",
        "colab": {
          "base_uri": "https://localhost:8080/"
        }
      },
      "execution_count": 81,
      "outputs": [
        {
          "output_type": "stream",
          "name": "stdout",
          "text": [
            "[[[ 1  2  3]\n",
            "  [ 4  5  6]]\n",
            "\n",
            " [[11 22 30]\n",
            "  [41  5 56]]]\n",
            "<class 'numpy.ndarray'>\n",
            "3\n",
            "12\n",
            "(2, 2, 3)\n",
            "int64\n"
          ]
        }
      ]
    }
  ]
}